{
 "cells": [
  {
   "cell_type": "markdown",
   "metadata": {},
   "source": [
    "## 1. 基于数据集多重抽样的分类器"
   ]
  },
  {
   "cell_type": "markdown",
   "metadata": {},
   "source": [
    "前面已经介绍了五种不同的分类算法，各有优缺点，将不同分类器组合起来，这种方法被称为“集成方法”（ensemble method）或者“元算法”（meta-algorithm）。"
   ]
  },
  {
   "cell_type": "markdown",
   "metadata": {},
   "source": [
    "AdaBoost算法：\n",
    "\n",
    "> 优点：泛化错误率地，易编码，可以应用在大部分分类器上，无参数调整\n",
    "\n",
    "> 缺点：对离散点敏感\n",
    "\n",
    "> 适用数据类型：数值型和标称型"
   ]
  },
  {
   "cell_type": "markdown",
   "metadata": {},
   "source": [
    "### 1.1 bagging: 基于数据随机重抽样的分类器构建方法"
   ]
  },
  {
   "cell_type": "markdown",
   "metadata": {
    "collapsed": true
   },
   "source": [
    "自举汇聚法（bootstrap aggregating）是从原始数据集随机选择S次后得到S个新数据集的一种技术。新数据集和原始数据集的大小相等。新数据集建好之后，就可以将某个学习算法分别作用于每个数据集，就得到了S和分类器。\n",
    "\n",
    "还有一些更先进的bagging方法，比如随机森林（random forest）。"
   ]
  },
  {
   "cell_type": "markdown",
   "metadata": {},
   "source": [
    "### 1.2 boosting"
   ]
  },
  {
   "cell_type": "markdown",
   "metadata": {},
   "source": [
    "bagging中的分类器是通过串行训练而获得的，每个新分类器都根据已训练出的分类器的性能进行训练，而boosting是通过集中关注被已有分了其错分的那些数据来重新获得新的分类器。\n",
    "\n",
    "boosting的方法拥有多个版本，我们只关注一个最流行的版本：AdaBoost"
   ]
  },
  {
   "cell_type": "markdown",
   "metadata": {},
   "source": [
    "## 2. 训练算法"
   ]
  },
  {
   "cell_type": "markdown",
   "metadata": {},
   "source": [
    "AdaBoost是adaptive boosting的搜写，一开始每个样本的权重是相同的，先训练出一个弱分类器，计算错误率，然后重新调整每个样本的权重，多次训练得到最终的分类结果。\n",
    "\n",
    "错误率$\\varepsilon$=未正确分类的样本数/所有样本数\n",
    "\n",
    "$\\alpha =\\dfrac {1}{2}\\ln \\left( \\dfrac {1-\\varepsilon }{\\varepsilon }\\right)$\n",
    "\n",
    "如果某个样本被正确分类：$D_{i}\\left( t+1\\right) =\\dfrac {D^{\\left( t\\right) }_{i}e^{-\\alpha }}{sum\\left( D\\right) }$\n",
    "\n",
    "如果某个样本被错误分类：$D_{i}\\left( t+1\\right) =\\dfrac {D^{\\left( t\\right) }_{i}e^{\\alpha }}{sum\\left( D\\right) }$"
   ]
  },
  {
   "cell_type": "markdown",
   "metadata": {},
   "source": [
    "## 3. 基于单层决策树"
   ]
  },
  {
   "cell_type": "markdown",
   "metadata": {},
   "source": [
    "单层决策树（decision stump）是一种简单的决策树吗，只有一次分裂过程。"
   ]
  },
  {
   "cell_type": "code",
   "execution_count": 1,
   "metadata": {
    "collapsed": true
   },
   "outputs": [],
   "source": [
    "import matplotlib.pyplot as plt\n",
    "import numpy as np"
   ]
  },
  {
   "cell_type": "code",
   "execution_count": 2,
   "metadata": {
    "collapsed": true
   },
   "outputs": [],
   "source": [
    "def loadSimpData():\n",
    "    dataMat = np.mat([[1, 2.1],\n",
    "                     [2, 1.1],\n",
    "                     [1.3, 1],\n",
    "                     [1, 1],\n",
    "                     [2, 1]])\n",
    "    classLabels = [1.0, 1.0, -1.0, -1.0, 1.0]   \n",
    "    return dataMat, classLabels"
   ]
  },
  {
   "cell_type": "code",
   "execution_count": 3,
   "metadata": {},
   "outputs": [
    {
     "data": {
      "image/png": "[encoded data removed]",
      "text/plain": [
       "<matplotlib.figure.Figure at 0x2936d5b52b0>"
      ]
     },
     "metadata": {},
     "output_type": "display_data"
    }
   ],
   "source": [
    "# plot\n",
    "dataMat, classLabels = loadSimpData()\n",
    "m = len(classLabels)\n",
    "labels = np.array(classLabels)\n",
    "data = np.array(dataMat)\n",
    "data1 = data[labels == 1]\n",
    "data2 = data[labels == -1]\n",
    "fig,ax = plt.subplots(figsize=(10, 8))\n",
    "ax.scatter(data1[:, 0], data1[:, 1], c='g', label='1')\n",
    "ax.scatter(data2[:, 0], data2[:, 1], c='r', label='-1')\n",
    "plt.title('Decision Stump Test Data')\n",
    "plt.legend(loc='best')\n",
    "plt.show()"
   ]
  },
  {
   "cell_type": "markdown",
   "metadata": {},
   "source": [
    "是没有办法从某个坐标轴选择一个值来将两类分开，但是多个单侧决策树就可以了。"
   ]
  },
  {
   "cell_type": "code",
   "execution_count": 4,
   "metadata": {
    "collapsed": true
   },
   "outputs": [],
   "source": [
    "def stumpClassify(dataMatrix, dimen, threshVal, threshIneq):\n",
    "    m, n = dataMatrix.shape\n",
    "    retArray = np.ones((m, 1))\n",
    "    if threshIneq == 'lt':\n",
    "        retArray[dataMatrix[:, dimen] <= threshVal] = -1.0\n",
    "    else:\n",
    "        retArray[dataMatrix[:, dimen] > threshVal] = -1.0\n",
    "    return retArray"
   ]
  },
  {
   "cell_type": "code",
   "execution_count": 9,
   "metadata": {
    "collapsed": true
   },
   "outputs": [],
   "source": [
    "def buildStump(dataArr, classLabels, D):\n",
    "    dataMatrix = np.mat(dataArr)\n",
    "    labelMat = np.mat(classLabels).T\n",
    "    m, n = dataMatrix.shape\n",
    "    numSteps = 10\n",
    "    bestStump = {}\n",
    "    bestClasEst = np.mat(np.zeros((m, 1)))\n",
    "    minError = np.inf\n",
    "    for i in range(n):\n",
    "        rangeMin = dataMatrix[:, i].min()\n",
    "        rangeMax = dataMatrix[:, i].max()\n",
    "        stepSize = (rangeMax-rangeMin)/numSteps\n",
    "        for j in range(-1, int(numSteps)+1):\n",
    "            for inequal in ['lt', 'gt']:\n",
    "                threshVal = (rangeMin + float(j) * stepSize)\n",
    "                predictVals = stumpClassify(dataMatrix, i, threshVal, inequal)\n",
    "                errArr = np.mat(np.ones((m, 1)))\n",
    "                errArr[predictVals == labelMat] = 0\n",
    "                weightedError = D.T * errArr\n",
    "                #print('split: dim {0}, thresh: {1}, thresh inequal: {2}, the weighted error is{3}'.format(i, threshVal, inequal, weightedError))\n",
    "                if weightedError < minError:\n",
    "                    minError = weightedError\n",
    "                    bestClasEst = predictVals.copy()\n",
    "                    bestStump['dim'] = i\n",
    "                    bestStump['thresh'] = threshVal\n",
    "                    bestStump['ineq'] = inequal\n",
    "    return bestStump, minError, bestClasEst"
   ]
  },
  {
   "cell_type": "code",
   "execution_count": 8,
   "metadata": {},
   "outputs": [
    {
     "name": "stdout",
     "output_type": "stream",
     "text": [
      "split: dim 0, thresh: 0.9, thresh inequal: lt, the weighted error is[[ 0.4]]\n",
      "split: dim 0, thresh: 0.9, thresh inequal: gt, the weighted error is[[ 0.6]]\n",
      "split: dim 0, thresh: 1.0, thresh inequal: lt, the weighted error is[[ 0.4]]\n",
      "split: dim 0, thresh: 1.0, thresh inequal: gt, the weighted error is[[ 0.6]]\n",
      "split: dim 0, thresh: 1.1, thresh inequal: lt, the weighted error is[[ 0.4]]\n",
      "split: dim 0, thresh: 1.1, thresh inequal: gt, the weighted error is[[ 0.6]]\n",
      "split: dim 0, thresh: 1.2, thresh inequal: lt, the weighted error is[[ 0.4]]\n",
      "split: dim 0, thresh: 1.2, thresh inequal: gt, the weighted error is[[ 0.6]]\n",
      "split: dim 0, thresh: 1.3, thresh inequal: lt, the weighted error is[[ 0.2]]\n",
      "split: dim 0, thresh: 1.3, thresh inequal: gt, the weighted error is[[ 0.8]]\n",
      "split: dim 0, thresh: 1.4, thresh inequal: lt, the weighted error is[[ 0.2]]\n",
      "split: dim 0, thresh: 1.4, thresh inequal: gt, the weighted error is[[ 0.8]]\n",
      "split: dim 0, thresh: 1.5, thresh inequal: lt, the weighted error is[[ 0.2]]\n",
      "split: dim 0, thresh: 1.5, thresh inequal: gt, the weighted error is[[ 0.8]]\n",
      "split: dim 0, thresh: 1.6, thresh inequal: lt, the weighted error is[[ 0.2]]\n",
      "split: dim 0, thresh: 1.6, thresh inequal: gt, the weighted error is[[ 0.8]]\n",
      "split: dim 0, thresh: 1.7000000000000002, thresh inequal: lt, the weighted error is[[ 0.2]]\n",
      "split: dim 0, thresh: 1.7000000000000002, thresh inequal: gt, the weighted error is[[ 0.8]]\n",
      "split: dim 0, thresh: 1.8, thresh inequal: lt, the weighted error is[[ 0.2]]\n",
      "split: dim 0, thresh: 1.8, thresh inequal: gt, the weighted error is[[ 0.8]]\n",
      "split: dim 0, thresh: 1.9, thresh inequal: lt, the weighted error is[[ 0.2]]\n",
      "split: dim 0, thresh: 1.9, thresh inequal: gt, the weighted error is[[ 0.8]]\n",
      "split: dim 0, thresh: 2.0, thresh inequal: lt, the weighted error is[[ 0.6]]\n",
      "split: dim 0, thresh: 2.0, thresh inequal: gt, the weighted error is[[ 0.4]]\n",
      "split: dim 1, thresh: 0.89, thresh inequal: lt, the weighted error is[[ 0.4]]\n",
      "split: dim 1, thresh: 0.89, thresh inequal: gt, the weighted error is[[ 0.6]]\n",
      "split: dim 1, thresh: 1.0, thresh inequal: lt, the weighted error is[[ 0.2]]\n",
      "split: dim 1, thresh: 1.0, thresh inequal: gt, the weighted error is[[ 0.8]]\n",
      "split: dim 1, thresh: 1.11, thresh inequal: lt, the weighted error is[[ 0.4]]\n",
      "split: dim 1, thresh: 1.11, thresh inequal: gt, the weighted error is[[ 0.6]]\n",
      "split: dim 1, thresh: 1.22, thresh inequal: lt, the weighted error is[[ 0.4]]\n",
      "split: dim 1, thresh: 1.22, thresh inequal: gt, the weighted error is[[ 0.6]]\n",
      "split: dim 1, thresh: 1.33, thresh inequal: lt, the weighted error is[[ 0.4]]\n",
      "split: dim 1, thresh: 1.33, thresh inequal: gt, the weighted error is[[ 0.6]]\n",
      "split: dim 1, thresh: 1.44, thresh inequal: lt, the weighted error is[[ 0.4]]\n",
      "split: dim 1, thresh: 1.44, thresh inequal: gt, the weighted error is[[ 0.6]]\n",
      "split: dim 1, thresh: 1.55, thresh inequal: lt, the weighted error is[[ 0.4]]\n",
      "split: dim 1, thresh: 1.55, thresh inequal: gt, the weighted error is[[ 0.6]]\n",
      "split: dim 1, thresh: 1.6600000000000001, thresh inequal: lt, the weighted error is[[ 0.4]]\n",
      "split: dim 1, thresh: 1.6600000000000001, thresh inequal: gt, the weighted error is[[ 0.6]]\n",
      "split: dim 1, thresh: 1.77, thresh inequal: lt, the weighted error is[[ 0.4]]\n",
      "split: dim 1, thresh: 1.77, thresh inequal: gt, the weighted error is[[ 0.6]]\n",
      "split: dim 1, thresh: 1.8800000000000001, thresh inequal: lt, the weighted error is[[ 0.4]]\n",
      "split: dim 1, thresh: 1.8800000000000001, thresh inequal: gt, the weighted error is[[ 0.6]]\n",
      "split: dim 1, thresh: 1.9900000000000002, thresh inequal: lt, the weighted error is[[ 0.4]]\n",
      "split: dim 1, thresh: 1.9900000000000002, thresh inequal: gt, the weighted error is[[ 0.6]]\n",
      "split: dim 1, thresh: 2.1, thresh inequal: lt, the weighted error is[[ 0.6]]\n",
      "split: dim 1, thresh: 2.1, thresh inequal: gt, the weighted error is[[ 0.4]]\n"
     ]
    },
    {
     "data": {
      "text/plain": [
       "({'dim': 0, 'ineq': 'lt', 'thresh': 1.3}, matrix([[ 0.2]]), array([[-1.],\n",
       "        [ 1.],\n",
       "        [-1.],\n",
       "        [-1.],\n",
       "        [ 1.]]))"
      ]
     },
     "execution_count": 8,
     "metadata": {},
     "output_type": "execute_result"
    }
   ],
   "source": [
    "D= np.mat(np.ones((5, 1))/5)\n",
    "buildStump(dataMat, classLabels, D)"
   ]
  },
  {
   "cell_type": "markdown",
   "metadata": {},
   "source": [
    "## 4. 完整AdaBoost算法的实现"
   ]
  },
  {
   "cell_type": "code",
   "execution_count": 33,
   "metadata": {
    "collapsed": true
   },
   "outputs": [],
   "source": [
    "def adaBoostTrainDS(dataArr, classLabels, numIter=40):\n",
    "    weakClassArr = []\n",
    "    m, n = dataArr.shape\n",
    "    D = np.mat(np.ones((m, 1))/m)\n",
    "    aggClassEst = np.mat(np.zeros((m, 1)))\n",
    "    for i in range(numIter):\n",
    "        bestStump, error, classEst = buildStump(dataArr, classLabels, D)\n",
    "        #print('D: {0}'.format(D.T))\n",
    "        alpha = float(0.5*np.log((1-error)/max(error, 1e-16)))\n",
    "        bestStump['alpha'] = alpha\n",
    "        weakClassArr.append(bestStump)\n",
    "        #print('classEst: {0}'.format(classEst.T))\n",
    "        expon = np.multiply(-1*alpha*np.mat(classLabels).T, classEst)\n",
    "        D = np.multiply(D, np.exp(expon))\n",
    "        D = D/D.sum()\n",
    "        aggClassEst += alpha*classEst\n",
    "        #print('aggClassEst: {0}'.format(aggClassEst.T))\n",
    "        aggErrors = np.multiply(np.sign(aggClassEst) != np.mat(classLabels).T, np.ones((m, 1)))\n",
    "        errorRate = aggErrors.sum()/m\n",
    "        print('total error: {0}\\n'.format(errorRate))\n",
    "        if errorRate == 0.0:\n",
    "            break\n",
    "    return weakClassArr, aggClassEst"
   ]
  },
  {
   "cell_type": "code",
   "execution_count": 12,
   "metadata": {},
   "outputs": [
    {
     "name": "stdout",
     "output_type": "stream",
     "text": [
      "D: [[ 0.2  0.2  0.2  0.2  0.2]]\n",
      "classEst: [[-1.  1. -1. -1.  1.]]\n",
      "aggClassEst: [[-0.69314718  0.69314718 -0.69314718 -0.69314718  0.69314718]]\n",
      "total error: 0.2\n",
      "\n",
      "D: [[ 0.5    0.125  0.125  0.125  0.125]]\n",
      "classEst: [[ 1.  1. -1. -1. -1.]]\n",
      "aggClassEst: [[ 0.27980789  1.66610226 -1.66610226 -1.66610226 -0.27980789]]\n",
      "total error: 0.2\n",
      "\n",
      "D: [[ 0.28571429  0.07142857  0.07142857  0.07142857  0.5       ]]\n",
      "classEst: [[ 1.  1.  1.  1.  1.]]\n",
      "aggClassEst: [[ 1.17568763  2.56198199 -0.77022252 -0.77022252  0.61607184]]\n",
      "total error: 0.0\n",
      "\n"
     ]
    }
   ],
   "source": [
    "classifierArray = adaBoostTrainDS(dataMat, classLabels, 9)"
   ]
  },
  {
   "cell_type": "code",
   "execution_count": 13,
   "metadata": {},
   "outputs": [
    {
     "data": {
      "text/plain": [
       "[{'alpha': 0.6931471805599453, 'dim': 0, 'ineq': 'lt', 'thresh': 1.3},\n",
       " {'alpha': 0.9729550745276565, 'dim': 1, 'ineq': 'lt', 'thresh': 1.0},\n",
       " {'alpha': 0.8958797346140273,\n",
       "  'dim': 0,\n",
       "  'ineq': 'lt',\n",
       "  'thresh': 0.90000000000000002}]"
      ]
     },
     "execution_count": 13,
     "metadata": {},
     "output_type": "execute_result"
    }
   ],
   "source": [
    "classifierArray"
   ]
  },
  {
   "cell_type": "markdown",
   "metadata": {},
   "source": [
    "## 5. 测试算法：基于AdaBoost的分类"
   ]
  },
  {
   "cell_type": "code",
   "execution_count": 26,
   "metadata": {
    "collapsed": true
   },
   "outputs": [],
   "source": [
    "def adaClassify(datToClass, classifierArr):\n",
    "    dataMatrix = np.mat(datToClass)\n",
    "    m, n = dataMatrix.shape\n",
    "    aggClassEst = np.mat(np.zeros((m ,1)))\n",
    "    for i in range(len(classifierArr)):\n",
    "        classEst = stumpClassify(dataMatrix, classifierArr[i]['dim'], classifierArr[i]['thresh'], classifierArr[i]['ineq'])\n",
    "        aggClassEst += classifierArr[i]['alpha']*classEst\n",
    "        #print(aggClassEst)\n",
    "    return np.sign(aggClassEst)"
   ]
  },
  {
   "cell_type": "code",
   "execution_count": 16,
   "metadata": {},
   "outputs": [
    {
     "name": "stdout",
     "output_type": "stream",
     "text": [
      "D: [[ 0.2  0.2  0.2  0.2  0.2]]\n",
      "classEst: [[-1.  1. -1. -1.  1.]]\n",
      "aggClassEst: [[-0.69314718  0.69314718 -0.69314718 -0.69314718  0.69314718]]\n",
      "total error: 0.2\n",
      "\n",
      "D: [[ 0.5    0.125  0.125  0.125  0.125]]\n",
      "classEst: [[ 1.  1. -1. -1. -1.]]\n",
      "aggClassEst: [[ 0.27980789  1.66610226 -1.66610226 -1.66610226 -0.27980789]]\n",
      "total error: 0.2\n",
      "\n",
      "D: [[ 0.28571429  0.07142857  0.07142857  0.07142857  0.5       ]]\n",
      "classEst: [[ 1.  1.  1.  1.  1.]]\n",
      "aggClassEst: [[ 1.17568763  2.56198199 -0.77022252 -0.77022252  0.61607184]]\n",
      "total error: 0.0\n",
      "\n",
      "[[-0.69314718]]\n",
      "[[-1.66610226]]\n",
      "[[-2.56198199]]\n"
     ]
    },
    {
     "data": {
      "text/plain": [
       "matrix([[-1.]])"
      ]
     },
     "execution_count": 16,
     "metadata": {},
     "output_type": "execute_result"
    }
   ],
   "source": [
    "dataArr, labelArr = loadSimpData()\n",
    "classifierArr = adaBoostTrainDS(dataArr, labelArr, 30)\n",
    "adaClassify([0, 0], classifierArr)"
   ]
  },
  {
   "cell_type": "markdown",
   "metadata": {},
   "source": [
    "## 6. 示例：在一个难数据集上应用AdaBoost"
   ]
  },
  {
   "cell_type": "code",
   "execution_count": 19,
   "metadata": {
    "collapsed": true
   },
   "outputs": [],
   "source": [
    "def loadDataSet(fileName):\n",
    "    with open(fileName) as f:\n",
    "        dataMat = []\n",
    "        labelMat = []\n",
    "        for line in f.readlines():\n",
    "            lineArr = []\n",
    "            curLine = line.strip().split('\\t')\n",
    "            for i in range(len(curLine)-1):\n",
    "                lineArr.append(float(curLine[i]))\n",
    "            dataMat.append(lineArr)\n",
    "            labelMat.append(float(curLine[-1]))\n",
    "    return np.array(dataMat), labelMat"
   ]
  },
  {
   "cell_type": "code",
   "execution_count": 23,
   "metadata": {},
   "outputs": [
    {
     "name": "stdout",
     "output_type": "stream",
     "text": [
      "total error: 0.2842809364548495\n",
      "\n",
      "total error: 0.2842809364548495\n",
      "\n",
      "total error: 0.24749163879598662\n",
      "\n",
      "total error: 0.24749163879598662\n",
      "\n",
      "total error: 0.25418060200668896\n",
      "\n",
      "total error: 0.2408026755852843\n",
      "\n",
      "total error: 0.2408026755852843\n",
      "\n",
      "total error: 0.22073578595317725\n",
      "\n",
      "total error: 0.24749163879598662\n",
      "\n",
      "total error: 0.23076923076923078\n",
      "\n"
     ]
    }
   ],
   "source": [
    "dataArr, labelArr = loadDataSet('horseColicTraining2.txt')\n",
    "classifierArray = adaBoostTrainDS(dataArr, labelArr, 10)"
   ]
  },
  {
   "cell_type": "code",
   "execution_count": 29,
   "metadata": {},
   "outputs": [
    {
     "data": {
      "text/plain": [
       "0.23880597014925373"
      ]
     },
     "execution_count": 29,
     "metadata": {},
     "output_type": "execute_result"
    }
   ],
   "source": [
    "testArr, testLabelArr = loadDataSet('horseColicTest2.txt')\n",
    "prediction10 = adaClassify(testArr, classifierArray)\n",
    "errArr = np.mat(np.ones((67, 1)))\n",
    "errArr[prediction10 != np.mat(testLabelArr).T].sum()/67"
   ]
  },
  {
   "cell_type": "markdown",
   "metadata": {},
   "source": [
    "会发现错误率呈现一个先减少后上升的取视，这类现象称为过拟合（overfitting）。"
   ]
  },
  {
   "cell_type": "markdown",
   "metadata": {},
   "source": [
    "## 7. 非均衡分类问题"
   ]
  },
  {
   "cell_type": "markdown",
   "metadata": {},
   "source": [
    "### 7.1 其他分类性能度量指标：正确率、召回率及ROC曲线"
   ]
  },
  {
   "cell_type": "markdown",
   "metadata": {},
   "source": [
    "一直在基于错误率衡量分类器任务的成功程度，错误率指的是在所有测试样例中错分的样例比例，实际上这样的度量错误掩盖了样例如何被分错的事实。\n",
    "\n",
    "机器学习中有个普遍使用的工具——混淆矩阵，能帮助人们更好的了解分类中的错误。"
   ]
  },
  {
   "cell_type": "markdown",
   "metadata": {},
   "source": [
    "TP（True Positive）：将一个正例判为正例\n",
    "\n",
    "FN（False Negative）：将一个正例判为反例\n",
    "\n",
    "FP（False Positive）：将一个反例判为正例\n",
    "\n",
    "TN（True Negative）：将一个反例判为反例"
   ]
  },
  {
   "cell_type": "markdown",
   "metadata": {},
   "source": [
    "正确率（precision）=TP/（TP+FP）\n",
    "\n",
    "召回率（recall）=TP/（TP+FN）"
   ]
  },
  {
   "cell_type": "markdown",
   "metadata": {},
   "source": [
    "构建一个同时保证正确率和召回率最大的分类器是很困难的。"
   ]
  },
  {
   "cell_type": "markdown",
   "metadata": {},
   "source": [
    "另一个度量分类中的非均衡性的工具是ROC曲线。"
   ]
  },
  {
   "cell_type": "code",
   "execution_count": 32,
   "metadata": {},
   "outputs": [],
   "source": [
    "def plotROC(predStrengths, classLabels):\n",
    "    cur = (1.0, 1.0)\n",
    "    ySum = 0.0\n",
    "    numPosClas = np.sum(np.array(classLabels)==1.0)\n",
    "    yStep = 1/float(numPosClas)\n",
    "    xStep = 1/float(len(classLabels)-numPosClas)\n",
    "    sortedIndices = predStrengths.argsort()\n",
    "    fig = plt.figure()\n",
    "    fig.clf()\n",
    "    ax = plt.subplot(111)\n",
    "    for index in sortedIndices.tolist()[0]:\n",
    "        if classLabels[index] == 1.0:\n",
    "            delX = 0\n",
    "            delY = yStep\n",
    "        else:\n",
    "            delX = xStep\n",
    "            delY = 0\n",
    "            ySum += cur[1]\n",
    "        ax.plot([cur[0], cur[0]-delX], [cur[1], cur[1]-delY], c='b')\n",
    "        cur = (cur[0]-delX, cur[1]-delY)\n",
    "    ax.plot([0, 1], [0, 1], 'b--')\n",
    "    plt.xlabel('False Positive Rate')\n",
    "    plt.ylabel('True Positive Rate')\n",
    "    plt.title('ROC curve for AdaBoost Horse Colic Detection System')\n",
    "    ax.axis([0, 1, 0, 1])\n",
    "    plt.show()\n",
    "    print('the Area Under the Curve is: {0}'.format(ySum*xStep))"
   ]
  },
  {
   "cell_type": "code",
   "execution_count": 35,
   "metadata": {},
   "outputs": [
    {
     "name": "stdout",
     "output_type": "stream",
     "text": [
      "total error: 0.2842809364548495\n",
      "\n",
      "total error: 0.2842809364548495\n",
      "\n",
      "total error: 0.24749163879598662\n",
      "\n",
      "total error: 0.24749163879598662\n",
      "\n",
      "total error: 0.25418060200668896\n",
      "\n",
      "total error: 0.2408026755852843\n",
      "\n",
      "total error: 0.2408026755852843\n",
      "\n",
      "total error: 0.22073578595317725\n",
      "\n",
      "total error: 0.24749163879598662\n",
      "\n",
      "total error: 0.23076923076923078\n",
      "\n"
     ]
    }
   ],
   "source": [
    "dataArr, labelArr = loadDataSet('horseColicTraining2.txt')\n",
    "classifierArray, aggClassEst = adaBoostTrainDS(dataArr, labelArr, 10)"
   ]
  },
  {
   "cell_type": "code",
   "execution_count": 36,
   "metadata": {},
   "outputs": [
    {
     "data": {
      "image/png": "[encoded data removed]",
      "text/plain": [
       "<matplotlib.figure.Figure at 0x2936d896dd8>"
      ]
     },
     "metadata": {},
     "output_type": "display_data"
    },
    {
     "name": "stdout",
     "output_type": "stream",
     "text": [
      "the Area Under the Curve is: 0.8582969635063604\n"
     ]
    }
   ],
   "source": [
    "plotROC(aggClassEst.T, labelArr)"
   ]
  },
  {
   "cell_type": "markdown",
   "metadata": {},
   "source": [
    "### 7.2 基于代价函数的分类器决策控制"
   ]
  },
  {
   "cell_type": "markdown",
   "metadata": {},
   "source": [
    "采用一种被称为**代价敏感的学习（cost-sensitive learning）**的方法。"
   ]
  },
  {
   "cell_type": "markdown",
   "metadata": {},
   "source": [
    "### 7.3 处理非均衡问题的数据抽样方法"
   ]
  },
  {
   "cell_type": "markdown",
   "metadata": {},
   "source": [
    "可以对分类器的训练数据进行改造，如欠抽样（删除样例）或者过抽样（复制样例）。\n",
    "\n",
    "通常也会存在某个罕见的类别需要识别，可以选择离决策边界较远的样例删除。"
   ]
  },
  {
   "cell_type": "markdown",
   "metadata": {},
   "source": [
    "> 总结：集成方法通过组合多个分类器的分类结果，获得比简单的但分类器更好的分类结果。AdaBoost算法可以接受多种分类器，功能强大，训练的时候仍然需要注意非均衡分类的问题。"
   ]
  },
  {
   "cell_type": "code",
   "execution_count": null,
   "metadata": {
    "collapsed": true
   },
   "outputs": [],
   "source": []
  }
 ],
 "metadata": {
  "kernelspec": {
   "display_name": "Python 3",
   "language": "python",
   "name": "python3"
  },
  "language_info": {
   "codemirror_mode": {
    "name": "ipython",
    "version": 3
   },
   "file_extension": ".py",
   "mimetype": "text/x-python",
   "name": "python",
   "nbconvert_exporter": "python",
   "pygments_lexer": "ipython3",
   "version": "3.6.3"
  }
 },
 "nbformat": 4,
 "nbformat_minor": 2
}
