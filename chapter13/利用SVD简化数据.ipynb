{
 "cells": [
  {
   "cell_type": "markdown",
   "metadata": {},
   "source": [
    "## 1、SVD的应用"
   ]
  },
  {
   "cell_type": "markdown",
   "metadata": {},
   "source": [
    "> 优点：简化数据，去除噪声，提高算法的结果\n",
    "\n",
    "> 缺点：数据的转换可能难以理解\n",
    "\n",
    "> 适用数据类型：数值型数据"
   ]
  },
  {
   "cell_type": "markdown",
   "metadata": {},
   "source": [
    "利用SVD实现，我们能用小得多的数据集来表示原始数据集。这样做实际上失去除了噪声和冗余信息。"
   ]
  },
  {
   "cell_type": "markdown",
   "metadata": {},
   "source": [
    "### 1.1 隐性语义索引"
   ]
  },
  {
   "cell_type": "markdown",
   "metadata": {},
   "source": [
    "最早的SVD的应用之一就是信息检索，我们称利用SVD的方法为隐性语义索引（Latent Semantic Indexing, LSI）。\n",
    "\n",
    "在LSI中，一个矩阵是由文档和词语组成，在该矩阵上应用SVD就会构建出多个奇异值，这些奇异值代表了文档中的概念或主题，这一特点可用于更搞笑的文档搜索。"
   ]
  },
  {
   "cell_type": "markdown",
   "metadata": {},
   "source": [
    "### 1.2 推荐系统"
   ]
  },
  {
   "cell_type": "markdown",
   "metadata": {},
   "source": [
    "SVD的另一个应用就是推荐系统，简单版本的推荐系统能够计算项或者人之间的相似度，更先进的方法则先利用SVD从数据中构建一个主题空间，然后再在该控件下计算其相似度。"
   ]
  },
  {
   "cell_type": "markdown",
   "metadata": {},
   "source": [
    "## 2、矩阵分解"
   ]
  },
  {
   "cell_type": "code",
   "execution_count": 1,
   "metadata": {
    "collapsed": true
   },
   "outputs": [],
   "source": [
    "import numpy as np"
   ]
  },
  {
   "cell_type": "code",
   "execution_count": 2,
   "metadata": {},
   "outputs": [
    {
     "data": {
      "text/plain": [
       "array([[-0.14142136, -0.98994949],\n",
       "       [-0.98994949,  0.14142136]])"
      ]
     },
     "execution_count": 2,
     "metadata": {},
     "output_type": "execute_result"
    }
   ],
   "source": [
    "U, Sigma, VT = np.linalg.svd([[1, 1], [7, 7]])\n",
    "U"
   ]
  },
  {
   "cell_type": "code",
   "execution_count": 3,
   "metadata": {},
   "outputs": [
    {
     "data": {
      "text/plain": [
       "array([ 10.,   0.])"
      ]
     },
     "execution_count": 3,
     "metadata": {},
     "output_type": "execute_result"
    }
   ],
   "source": [
    "Sigma"
   ]
  },
  {
   "cell_type": "code",
   "execution_count": 4,
   "metadata": {},
   "outputs": [
    {
     "data": {
      "text/plain": [
       "array([[-0.70710678, -0.70710678],\n",
       "       [-0.70710678,  0.70710678]])"
      ]
     },
     "execution_count": 4,
     "metadata": {},
     "output_type": "execute_result"
    }
   ],
   "source": [
    "VT"
   ]
  },
  {
   "cell_type": "code",
   "execution_count": 2,
   "metadata": {
    "collapsed": true
   },
   "outputs": [],
   "source": [
    "def loadExData():\n",
    "    return[[1, 1, 1, 0, 0],\n",
    "           [2, 2, 2, 0, 0],\n",
    "           [1, 1, 1, 0, 0],\n",
    "           [5, 5, 5, 0, 0],\n",
    "           [1, 1, 0, 2, 2],\n",
    "           [0, 0, 0, 2, 2],\n",
    "           [0, 0, 0, 3, 3],\n",
    "           [0, 0, 0, 1, 1]]"
   ]
  },
  {
   "cell_type": "code",
   "execution_count": 8,
   "metadata": {},
   "outputs": [
    {
     "data": {
      "text/plain": [
       "array([  9.72254240e+00,   5.99678956e+00,   7.14621710e-01,\n",
       "         1.33226763e-15,   2.96636264e-31])"
      ]
     },
     "execution_count": 8,
     "metadata": {},
     "output_type": "execute_result"
    }
   ],
   "source": [
    "data = loadExData()\n",
    "U, Sigma, VT = np.linalg.svd(data)\n",
    "Sigma"
   ]
  },
  {
   "cell_type": "markdown",
   "metadata": {},
   "source": [
    "前三个值比其他之大很多，这样就可以近似的重构原始矩阵。"
   ]
  },
  {
   "cell_type": "code",
   "execution_count": 9,
   "metadata": {},
   "outputs": [
    {
     "data": {
      "text/plain": [
       "matrix([[  1.00000000e+00,   1.00000000e+00,   1.00000000e+00,\n",
       "          -7.43654270e-16,  -7.08092439e-16],\n",
       "        [  2.00000000e+00,   2.00000000e+00,   2.00000000e+00,\n",
       "          -5.61616725e-16,  -4.90493063e-16],\n",
       "        [  1.00000000e+00,   1.00000000e+00,   1.00000000e+00,\n",
       "          -8.38738801e-16,  -8.03176969e-16],\n",
       "        [  5.00000000e+00,   5.00000000e+00,   5.00000000e+00,\n",
       "           4.47124976e-16,   6.11490025e-16],\n",
       "        [  1.00000000e+00,   1.00000000e+00,   2.22044605e-16,\n",
       "           2.00000000e+00,   2.00000000e+00],\n",
       "        [  2.77555756e-17,   5.55111512e-17,   2.77555756e-17,\n",
       "           2.00000000e+00,   2.00000000e+00],\n",
       "        [  4.16333634e-17,   6.93889390e-17,   2.77555756e-17,\n",
       "           3.00000000e+00,   3.00000000e+00],\n",
       "        [  1.38777878e-17,   2.77555756e-17,   1.38777878e-17,\n",
       "           1.00000000e+00,   1.00000000e+00]])"
      ]
     },
     "execution_count": 9,
     "metadata": {},
     "output_type": "execute_result"
    }
   ],
   "source": [
    "Sig3 = np.mat([[Sigma[0], 0, 0], [0, Sigma[1], 0], [0, 0, Sigma[2]]])\n",
    "reConstruct = U[:, :3] * Sig3 * VT[:3, :]\n",
    "reConstruct"
   ]
  },
  {
   "cell_type": "markdown",
   "metadata": {},
   "source": [
    "## 3、基于协同过滤的推荐引擎"
   ]
  },
  {
   "cell_type": "markdown",
   "metadata": {},
   "source": [
    "### 3.1 相似度计算"
   ]
  },
  {
   "cell_type": "markdown",
   "metadata": {},
   "source": [
    "相似度的计算方法有很多：\n",
    "1. 欧式距离，然后通过1/(1+distance)归一化\n",
    "2. 皮尔逊相关系数（Pearson correlation）\n",
    "3. 余弦相似度（cosine similarity）"
   ]
  },
  {
   "cell_type": "code",
   "execution_count": 3,
   "metadata": {
    "collapsed": true
   },
   "outputs": [],
   "source": [
    "def norm(inX):\n",
    "    return np.sqrt(np.sum(np.power(inX, 2)))"
   ]
  },
  {
   "cell_type": "code",
   "execution_count": 4,
   "metadata": {
    "collapsed": true
   },
   "outputs": [],
   "source": [
    "def eulidSim(inA, inB):\n",
    "    return 1 / (1 + np.sqrt(np.sum(np.power(inA - inB, 2))))"
   ]
  },
  {
   "cell_type": "code",
   "execution_count": 5,
   "metadata": {
    "collapsed": true
   },
   "outputs": [],
   "source": [
    "def pearsSim(inA, inB):\n",
    "    if len(inA) < 3:\n",
    "        return 1.0\n",
    "    return 0.5 + 0.5 * np.corrcoef(inA, inB, rowvar=0)[0][1]"
   ]
  },
  {
   "cell_type": "code",
   "execution_count": 6,
   "metadata": {
    "collapsed": true
   },
   "outputs": [],
   "source": [
    "def cosSim(inA, inB):\n",
    "    num = float(inA.T * inB)\n",
    "    denom = norm(inA) * norm(inB)\n",
    "    return 0.5 + 0.5 * (num/denom)"
   ]
  },
  {
   "cell_type": "code",
   "execution_count": 21,
   "metadata": {},
   "outputs": [
    {
     "data": {
      "text/plain": [
       "0.12849622184722817"
      ]
     },
     "execution_count": 21,
     "metadata": {},
     "output_type": "execute_result"
    }
   ],
   "source": [
    "myMat = np.mat(loadExData())\n",
    "eulidSim(myMat[:, 0], myMat[:, 4])"
   ]
  },
  {
   "cell_type": "code",
   "execution_count": 22,
   "metadata": {},
   "outputs": [
    {
     "data": {
      "text/plain": [
       "1.0"
      ]
     },
     "execution_count": 22,
     "metadata": {},
     "output_type": "execute_result"
    }
   ],
   "source": [
    "eulidSim(myMat[:, 0], myMat[:, 0])"
   ]
  },
  {
   "cell_type": "code",
   "execution_count": 24,
   "metadata": {},
   "outputs": [
    {
     "data": {
      "text/plain": [
       "0.54166666666666663"
      ]
     },
     "execution_count": 24,
     "metadata": {},
     "output_type": "execute_result"
    }
   ],
   "source": [
    "cosSim(myMat[:, 0], myMat[:, 4])"
   ]
  },
  {
   "cell_type": "code",
   "execution_count": 25,
   "metadata": {},
   "outputs": [
    {
     "data": {
      "text/plain": [
       "0.99999999999999989"
      ]
     },
     "execution_count": 25,
     "metadata": {},
     "output_type": "execute_result"
    }
   ],
   "source": [
    "cosSim(myMat[:, 0], myMat[:, 0])"
   ]
  },
  {
   "cell_type": "code",
   "execution_count": 26,
   "metadata": {},
   "outputs": [
    {
     "data": {
      "text/plain": [
       "0.21355405038422687"
      ]
     },
     "execution_count": 26,
     "metadata": {},
     "output_type": "execute_result"
    }
   ],
   "source": [
    "pearsSim(myMat[:, 0], myMat[:, 4])"
   ]
  },
  {
   "cell_type": "markdown",
   "metadata": {},
   "source": [
    "### 3.2 基于物品的相似度还是基于用户的相似度？"
   ]
  },
  {
   "cell_type": "markdown",
   "metadata": {},
   "source": [
    "距离的计算有两种方式：基于物品（item-based）的相似度以及基于用户（user-based）的相似度，行与行之间比较的是基于用户的相似度，列与列之间比较的则是基于物品的相似度。"
   ]
  },
  {
   "cell_type": "markdown",
   "metadata": {},
   "source": [
    "### 3.3 推荐引擎的评价"
   ]
  },
  {
   "cell_type": "markdown",
   "metadata": {},
   "source": [
    "采用交叉测试的方法，具体做法是将某些已知的评分制去掉，对它们预测，最后计算预测值和真实值之间的差异，通常采用的指标是最小均方根误差（root mean squared error， RMSE）。"
   ]
  },
  {
   "cell_type": "markdown",
   "metadata": {},
   "source": [
    "## 4、示例：餐馆菜肴推荐引擎"
   ]
  },
  {
   "cell_type": "markdown",
   "metadata": {},
   "source": [
    "### 4.1 推荐未尝过的菜肴"
   ]
  },
  {
   "cell_type": "code",
   "execution_count": 9,
   "metadata": {
    "collapsed": true
   },
   "outputs": [],
   "source": [
    "# 基于物品相似度的推荐引擎\n",
    "def standEst(dataMat, user, simMeans, item):\n",
    "    m, n = dataMat.shape\n",
    "    simTotal = 0.0\n",
    "    ratSimTotal = 0.0\n",
    "    for j in range(n):\n",
    "        userRating = dataMat[user, j]\n",
    "        if userRating == 0:\n",
    "            continue\n",
    "        overLap = np.nonzero(np.logical_and(dataMat[:, item].A > 0,\\\n",
    "                                            dataMat[:, j].A > 0))[0]\n",
    "        if len(overLap) == 0:\n",
    "            similarity = 0\n",
    "        else:\n",
    "            similarity = simMeans(dataMat[overLap, item], dataMat[overLap, j])\n",
    "        simTotal += similarity\n",
    "        ratSimTotal += similarity * userRating\n",
    "    if simTotal == 0:\n",
    "        return 0\n",
    "    else:\n",
    "        return ratSimTotal / simTotal"
   ]
  },
  {
   "cell_type": "code",
   "execution_count": 15,
   "metadata": {},
   "outputs": [],
   "source": [
    "def recommend(dataMat, user, N=3, simMeans=cosSim, estMethod=standEst):\n",
    "    unratedItems = np.nonzero(dataMat[user, :].A == 0)[1]\n",
    "    if len(unratedItems) == 0:\n",
    "        return 'you rated everything'\n",
    "    itemScores = []\n",
    "    for item in unratedItems:\n",
    "        estimatedScore = estMethod(dataMat, user, simMeans, item)\n",
    "        itemScores.append((item, estimatedScore))\n",
    "    return sorted(itemScores, key=lambda jj: jj[1], reverse=True)[:N]\n",
    "        "
   ]
  },
  {
   "cell_type": "code",
   "execution_count": 14,
   "metadata": {},
   "outputs": [
    {
     "data": {
      "text/plain": [
       "matrix([[4, 4, 1, 0, 0],\n",
       "        [4, 2, 2, 0, 0],\n",
       "        [4, 1, 1, 0, 0],\n",
       "        [5, 5, 5, 2, 0],\n",
       "        [1, 1, 0, 2, 2],\n",
       "        [0, 0, 0, 2, 2],\n",
       "        [0, 0, 0, 3, 3],\n",
       "        [0, 0, 0, 1, 1]])"
      ]
     },
     "execution_count": 14,
     "metadata": {},
     "output_type": "execute_result"
    }
   ],
   "source": [
    "myMat = np.mat(loadExData())\n",
    "# 略作修改\n",
    "myMat[0, 1] = myMat[0, 0] = myMat[1, 0] = myMat[2, 0] = 4\n",
    "myMat[3, 3] = 2\n",
    "myMat"
   ]
  },
  {
   "cell_type": "code",
   "execution_count": 16,
   "metadata": {},
   "outputs": [
    {
     "data": {
      "text/plain": [
       "[(4, 2.5), (3, 1.9703483892927431)]"
      ]
     },
     "execution_count": 16,
     "metadata": {},
     "output_type": "execute_result"
    }
   ],
   "source": [
    "recommend(myMat, 2)"
   ]
  },
  {
   "cell_type": "markdown",
   "metadata": {},
   "source": [
    "### 4.2 利用SVD提高推荐的效果"
   ]
  },
  {
   "cell_type": "code",
   "execution_count": 17,
   "metadata": {
    "collapsed": true
   },
   "outputs": [],
   "source": [
    "def loadExData2():\n",
    "        return[[0, 0, 0, 0, 0, 4, 0, 0, 0, 0, 5],\n",
    "           [0, 0, 0, 3, 0, 4, 0, 0, 0, 0, 3],\n",
    "           [0, 0, 0, 0, 4, 0, 0, 1, 0, 4, 0],\n",
    "           [3, 3, 4, 0, 0, 0, 0, 2, 2, 0, 0],\n",
    "           [5, 4, 5, 0, 0, 0, 0, 5, 5, 0, 0],\n",
    "           [0, 0, 0, 0, 5, 0, 1, 0, 0, 5, 0],\n",
    "           [4, 3, 4, 0, 0, 0, 0, 5, 5, 0, 1],\n",
    "           [0, 0, 0, 4, 0, 4, 0, 0, 0, 0, 4],\n",
    "           [0, 0, 0, 2, 0, 2, 5, 0, 0, 1, 2],\n",
    "           [0, 0, 0, 0, 5, 0, 0, 0, 0, 4, 0],\n",
    "           [1, 0, 0, 0, 0, 0, 0, 1, 2, 0, 0]]"
   ]
  },
  {
   "cell_type": "code",
   "execution_count": 18,
   "metadata": {},
   "outputs": [
    {
     "data": {
      "text/plain": [
       "array([ 15.77075346,  11.40670395,  11.03044558,   4.84639758,\n",
       "         3.09292055,   2.58097379,   1.00413543,   0.72817072,\n",
       "         0.43800353,   0.22082113,   0.07367823])"
      ]
     },
     "execution_count": 18,
     "metadata": {},
     "output_type": "execute_result"
    }
   ],
   "source": [
    "U, Sigma, VT = np.linalg.svd(np.mat(loadExData2()))\n",
    "Sigma"
   ]
  },
  {
   "cell_type": "code",
   "execution_count": 19,
   "metadata": {
    "collapsed": true
   },
   "outputs": [],
   "source": [
    "Sig2 = Sigma ** 2"
   ]
  },
  {
   "cell_type": "code",
   "execution_count": 20,
   "metadata": {},
   "outputs": [
    {
     "data": {
      "text/plain": [
       "541.99999999999943"
      ]
     },
     "execution_count": 20,
     "metadata": {},
     "output_type": "execute_result"
    }
   ],
   "source": [
    "sum(Sig2)"
   ]
  },
  {
   "cell_type": "code",
   "execution_count": 21,
   "metadata": {},
   "outputs": [
    {
     "data": {
      "text/plain": [
       "487.7999999999995"
      ]
     },
     "execution_count": 21,
     "metadata": {},
     "output_type": "execute_result"
    }
   ],
   "source": [
    "sum(Sig2) * 0.9"
   ]
  },
  {
   "cell_type": "code",
   "execution_count": 22,
   "metadata": {},
   "outputs": [
    {
     "data": {
      "text/plain": [
       "500.50028912757926"
      ]
     },
     "execution_count": 22,
     "metadata": {},
     "output_type": "execute_result"
    }
   ],
   "source": [
    "sum(Sig2[:3])"
   ]
  },
  {
   "cell_type": "markdown",
   "metadata": {},
   "source": [
    "于是我们可以将一个11维的矩阵转换成一个三维的矩阵"
   ]
  },
  {
   "cell_type": "code",
   "execution_count": 31,
   "metadata": {
    "collapsed": true
   },
   "outputs": [],
   "source": [
    "def svdEst(dataMat, user, simMeans, item):\n",
    "    m, n = dataMat.shape\n",
    "    simTotal = 0.0\n",
    "    ratSimTotal = 0.0\n",
    "    U, Sigma, VT = np.linalg.svd(dataMat)\n",
    "    Sig4 = np.mat(np.eye(4) * Sigma[:4])\n",
    "    # 映射到低维空间\n",
    "    xformedItems = dataMat.T * U[:, :4] * Sig4.I\n",
    "    for j in range(n):\n",
    "        userRating = dataMat[user, j]\n",
    "        if userRating == 0 or j == item:\n",
    "            continue\n",
    "        similarity = simMeans(xformedItems[item, :].T, xformedItems[j, :].T)\n",
    "        simTotal += similarity\n",
    "        ratSimTotal += similarity * userRating\n",
    "    if simTotal == 0:\n",
    "        return 0\n",
    "    else:\n",
    "        return ratSimTotal / simTotal"
   ]
  },
  {
   "cell_type": "code",
   "execution_count": 33,
   "metadata": {
    "collapsed": true
   },
   "outputs": [],
   "source": [
    "myMat = np.mat(loadExData2())"
   ]
  },
  {
   "cell_type": "code",
   "execution_count": 34,
   "metadata": {},
   "outputs": [
    {
     "data": {
      "text/plain": [
       "[(4, 3.3447149384692283), (7, 3.3294020724526963), (9, 3.328100876390069)]"
      ]
     },
     "execution_count": 34,
     "metadata": {},
     "output_type": "execute_result"
    }
   ],
   "source": [
    "recommend(myMat, 1, estMethod=svdEst)"
   ]
  },
  {
   "cell_type": "markdown",
   "metadata": {},
   "source": [
    "### 4.3 构建推荐引擎面临的挑战"
   ]
  },
  {
   "cell_type": "markdown",
   "metadata": {},
   "source": [
    "1. 要明确，SVD分解其实效率很低，大型系统中SVD每天运行一次或者频率更低，而且是离线运行\n",
    "2. 推荐引擎中还存在其他很多规模扩展性的挑战问题，比如矩阵的表示方法，因为有很多0，另一个潜在的计算资源浪费则来自于相似度得分，有时可以重复使用\n",
    "3. 另一个问题就是如何在缺乏数据时给出好的推荐，这称为冷启动（cold-start）问题，可以抓换位基于内容（content-based）的推荐"
   ]
  },
  {
   "cell_type": "markdown",
   "metadata": {},
   "source": [
    "## 5、示例：基于SVD的图像压缩"
   ]
  },
  {
   "cell_type": "code",
   "execution_count": 42,
   "metadata": {
    "collapsed": true
   },
   "outputs": [],
   "source": [
    "def printMat(inMat, thresh=0.8):\n",
    "    for i in range(32):\n",
    "        for k in range(32):\n",
    "            if float(inMat[i, k] > thresh):\n",
    "                print(1, end='')\n",
    "            else:\n",
    "                print(0, end='')\n",
    "        print(' ')"
   ]
  },
  {
   "cell_type": "code",
   "execution_count": 46,
   "metadata": {
    "collapsed": true
   },
   "outputs": [],
   "source": [
    "def imgCompress(numSV=3, thresh=0.8):\n",
    "    myl = []\n",
    "    for line in open('0_5.txt').readlines():\n",
    "        newRow = []\n",
    "        for i in range(32):\n",
    "            newRow.append(int(line[i]))\n",
    "        myl.append(newRow)\n",
    "    myMat = np.mat(myl)\n",
    "    print('****original matrix****')\n",
    "    printMat(myMat, thresh)\n",
    "    U, Sigma, VT = np.linalg.svd(myMat)\n",
    "    SigRecon = np.mat(np.zeros((numSV, numSV)))\n",
    "    for k in range(numSV):\n",
    "        SigRecon[k, k] = Sigma[k]\n",
    "    reconMat = U[:, :numSV] * SigRecon * VT[:numSV, :]\n",
    "    print('****reconstructed matrix using {} sigular values****'.format(numSV))\n",
    "    printMat(reconMat, thresh)"
   ]
  },
  {
   "cell_type": "code",
   "execution_count": 47,
   "metadata": {},
   "outputs": [
    {
     "name": "stdout",
     "output_type": "stream",
     "text": [
      "****original matrix****\n",
      "00000000000000110000000000000000 \n",
      "00000000000011111100000000000000 \n",
      "00000000000111111110000000000000 \n",
      "00000000001111111111000000000000 \n",
      "00000000111111111111100000000000 \n",
      "00000001111111111111110000000000 \n",
      "00000000111111111111111000000000 \n",
      "00000000111111100001111100000000 \n",
      "00000001111111000001111100000000 \n",
      "00000011111100000000111100000000 \n",
      "00000011111100000000111110000000 \n",
      "00000011111100000000011110000000 \n",
      "00000011111100000000011110000000 \n",
      "00000001111110000000001111000000 \n",
      "00000011111110000000001111000000 \n",
      "00000011111100000000001111000000 \n",
      "00000001111100000000001111000000 \n",
      "00000011111100000000001111000000 \n",
      "00000001111100000000001111000000 \n",
      "00000001111100000000011111000000 \n",
      "00000000111110000000001111100000 \n",
      "00000000111110000000001111100000 \n",
      "00000000111110000000001111100000 \n",
      "00000000111110000000011111000000 \n",
      "00000000111110000000111111000000 \n",
      "00000000111111000001111110000000 \n",
      "00000000011111111111111110000000 \n",
      "00000000001111111111111110000000 \n",
      "00000000001111111111111110000000 \n",
      "00000000000111111111111000000000 \n",
      "00000000000011111111110000000000 \n",
      "00000000000000111111000000000000 \n",
      "****reconstructed matrix using 3 sigular values****\n",
      "00000000000000000000000000000000 \n",
      "00000000000000000000000000000000 \n",
      "00000000000010111110000000000000 \n",
      "00000000000011111110000000000000 \n",
      "00000000000111111111000000000000 \n",
      "00000000001111111111110000000000 \n",
      "00000000001111111111110000000000 \n",
      "00000000011100000000111000000000 \n",
      "00000000111100000000111100000000 \n",
      "00000001111100000000111100000000 \n",
      "00000001111100000000011100000000 \n",
      "00000001111100000000011100000000 \n",
      "00000001111100000000011100000000 \n",
      "00000000111100000000001111000000 \n",
      "00000000111100000000001111000000 \n",
      "00000000111100000000001111000000 \n",
      "00000000111100000000001111000000 \n",
      "00000000111100000000001111000000 \n",
      "00000000111100000000001111000000 \n",
      "00000000111100000000001110000000 \n",
      "00000000111100000000001111000000 \n",
      "00000000111100000000001111000000 \n",
      "00000000111100000000001111000000 \n",
      "00000000111100000000001111000000 \n",
      "00000000111100000000001110000000 \n",
      "00000000111100000000111100000000 \n",
      "00000000001111111111111000000000 \n",
      "00000000001111111111110000000000 \n",
      "00000000001111111111110000000000 \n",
      "00000000000011111111110000000000 \n",
      "00000000000011111111100000000000 \n",
      "00000000000000000000000000000000 \n"
     ]
    }
   ],
   "source": [
    "imgCompress(3)"
   ]
  },
  {
   "cell_type": "code",
   "execution_count": 48,
   "metadata": {},
   "outputs": [
    {
     "name": "stdout",
     "output_type": "stream",
     "text": [
      "****original matrix****\n",
      "00000000000000110000000000000000 \n",
      "00000000000011111100000000000000 \n",
      "00000000000111111110000000000000 \n",
      "00000000001111111111000000000000 \n",
      "00000000111111111111100000000000 \n",
      "00000001111111111111110000000000 \n",
      "00000000111111111111111000000000 \n",
      "00000000111111100001111100000000 \n",
      "00000001111111000001111100000000 \n",
      "00000011111100000000111100000000 \n",
      "00000011111100000000111110000000 \n",
      "00000011111100000000011110000000 \n",
      "00000011111100000000011110000000 \n",
      "00000001111110000000001111000000 \n",
      "00000011111110000000001111000000 \n",
      "00000011111100000000001111000000 \n",
      "00000001111100000000001111000000 \n",
      "00000011111100000000001111000000 \n",
      "00000001111100000000001111000000 \n",
      "00000001111100000000011111000000 \n",
      "00000000111110000000001111100000 \n",
      "00000000111110000000001111100000 \n",
      "00000000111110000000001111100000 \n",
      "00000000111110000000011111000000 \n",
      "00000000111110000000111111000000 \n",
      "00000000111111000001111110000000 \n",
      "00000000011111111111111110000000 \n",
      "00000000001111111111111110000000 \n",
      "00000000001111111111111110000000 \n",
      "00000000000111111111111000000000 \n",
      "00000000000011111111110000000000 \n",
      "00000000000000111111000000000000 \n",
      "****reconstructed matrix using 2 sigular values****\n",
      "00000000000000000000000000000000 \n",
      "00000000000000000000000000000000 \n",
      "00000000000001111100000000000000 \n",
      "00000000000011111111000000000000 \n",
      "00000000000111111111100000000000 \n",
      "00000000001111111111110000000000 \n",
      "00000000001111111111110000000000 \n",
      "00000000011110000000001000000000 \n",
      "00000000111100000000001100000000 \n",
      "00000000111100000000001110000000 \n",
      "00000000111100000000001110000000 \n",
      "00000000111100000000001110000000 \n",
      "00000000111100000000001110000000 \n",
      "00000000111100000000001110000000 \n",
      "00000000111100000000001110000000 \n",
      "00000000111100000000001110000000 \n",
      "00000000111100000000001110000000 \n",
      "00000000111100000000001110000000 \n",
      "00000000111100000000001110000000 \n",
      "00000000111100000000001110000000 \n",
      "00000000111100000000001110000000 \n",
      "00000000111100000000001110000000 \n",
      "00000000111100000000001110000000 \n",
      "00000000111100000000001110000000 \n",
      "00000000111100000000001110000000 \n",
      "00000000111100000000001100000000 \n",
      "00000000001111111111111000000000 \n",
      "00000000001111111111110000000000 \n",
      "00000000001111111111110000000000 \n",
      "00000000000011111111100000000000 \n",
      "00000000000011111111000000000000 \n",
      "00000000000000000000000000000000 \n"
     ]
    }
   ],
   "source": [
    "imgCompress(2)"
   ]
  },
  {
   "cell_type": "markdown",
   "metadata": {},
   "source": [
    "> 总结：SVD是一种强大的降维工具，我们可以利用SVD来逼近矩阵并从中提取重要特征。通过保留矩阵80%-90%的能量，就可以得到重要的特征并去除噪声。"
   ]
  },
  {
   "cell_type": "code",
   "execution_count": null,
   "metadata": {
    "collapsed": true
   },
   "outputs": [],
   "source": []
  }
 ],
 "metadata": {
  "kernelspec": {
   "display_name": "Python 3",
   "language": "python",
   "name": "python3"
  },
  "language_info": {
   "codemirror_mode": {
    "name": "ipython",
    "version": 3
   },
   "file_extension": ".py",
   "mimetype": "text/x-python",
   "name": "python",
   "nbconvert_exporter": "python",
   "pygments_lexer": "ipython3",
   "version": "3.6.3"
  }
 },
 "nbformat": 4,
 "nbformat_minor": 2
}
