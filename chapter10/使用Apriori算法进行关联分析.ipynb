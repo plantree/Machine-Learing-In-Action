{
 "cells": [
  {
   "cell_type": "markdown",
   "metadata": {},
   "source": [
    "从大规模数据集中寻找物品间的隐含关系被称作关联分析（association analysis）或者关联规则学习（association rule learning）。"
   ]
  },
  {
   "cell_type": "markdown",
   "metadata": {},
   "source": [
    "## 1、关联分析"
   ]
  },
  {
   "cell_type": "markdown",
   "metadata": {},
   "source": [
    "> 优点：易编码实现\n",
    "\n",
    "> 缺点：在大数据集上可能较慢\n",
    "\n",
    "> 适用数据类型：数值型或标称型"
   ]
  },
  {
   "cell_type": "markdown",
   "metadata": {
    "collapsed": true
   },
   "source": [
    "## 2、Apriori原理"
   ]
  },
  {
   "cell_type": "markdown",
   "metadata": {},
   "source": [
    "Apriori原理的是说如果某个项集是频繁的，那么它的所有子集也是频繁的，反过来说，如果一个项集是非频繁集，那么它的所有超集也是非频繁的。"
   ]
  },
  {
   "cell_type": "markdown",
   "metadata": {},
   "source": [
    "Apriori再拉丁语中指“来自以前”。当定义问题时，通常会使用先验知识或者假设，这被称作“一个先验”（a priori）。在贝叶斯统计中，使用先验知识作为条件进行推断也很常见。"
   ]
  },
  {
   "cell_type": "markdown",
   "metadata": {},
   "source": [
    "## 3、使用Apriori算法来发现频繁集"
   ]
  },
  {
   "cell_type": "code",
   "execution_count": 1,
   "metadata": {
    "collapsed": true
   },
   "outputs": [],
   "source": [
    "def loadDataSet():\n",
    "    return [[1, 3, 4], [2, 3, 5], [1, 2, 3, 5], [2, 5]]"
   ]
  },
  {
   "cell_type": "code",
   "execution_count": 2,
   "metadata": {
    "collapsed": true
   },
   "outputs": [],
   "source": [
    "def createC1(dataSet):\n",
    "    C1 = []\n",
    "    for transaction in dataSet:\n",
    "        for item in transaction:\n",
    "            if not [item] in C1:\n",
    "                C1.append([item])\n",
    "    C1.sort()\n",
    "    return list(map(frozenset, C1))"
   ]
  },
  {
   "cell_type": "code",
   "execution_count": 16,
   "metadata": {},
   "outputs": [],
   "source": [
    "def scanD(D, Ck, minSupport):\n",
    "    ssCnt = {}\n",
    "    for tid in D:\n",
    "        for can in Ck:\n",
    "            if can.issubset(tid):\n",
    "                if not can in ssCnt:\n",
    "                    ssCnt[can] = 1\n",
    "                else:\n",
    "                    ssCnt[can] += 1\n",
    "    numItems = len(D)\n",
    "    retList = []\n",
    "    supportData = {}\n",
    "    for key in ssCnt:\n",
    "        support = ssCnt[key] / numItems\n",
    "        if support >= minSupport:\n",
    "            retList.insert(0, key)\n",
    "        supportData[key] = support\n",
    "    return retList, supportData"
   ]
  },
  {
   "cell_type": "code",
   "execution_count": 5,
   "metadata": {},
   "outputs": [
    {
     "data": {
      "text/plain": [
       "[[1, 3, 4], [2, 3, 5], [1, 2, 3, 5], [2, 5]]"
      ]
     },
     "execution_count": 5,
     "metadata": {},
     "output_type": "execute_result"
    }
   ],
   "source": [
    "dataSet = loadDataSet()\n",
    "dataSet"
   ]
  },
  {
   "cell_type": "code",
   "execution_count": 6,
   "metadata": {},
   "outputs": [
    {
     "data": {
      "text/plain": [
       "[frozenset({1}),\n",
       " frozenset({2}),\n",
       " frozenset({3}),\n",
       " frozenset({4}),\n",
       " frozenset({5})]"
      ]
     },
     "execution_count": 6,
     "metadata": {},
     "output_type": "execute_result"
    }
   ],
   "source": [
    "C1 = createC1(dataSet)\n",
    "C1"
   ]
  },
  {
   "cell_type": "code",
   "execution_count": 7,
   "metadata": {},
   "outputs": [
    {
     "data": {
      "text/plain": [
       "[{1, 3, 4}, {2, 3, 5}, {1, 2, 3, 5}, {2, 5}]"
      ]
     },
     "execution_count": 7,
     "metadata": {},
     "output_type": "execute_result"
    }
   ],
   "source": [
    "D = list(map(set, dataSet))\n",
    "D"
   ]
  },
  {
   "cell_type": "code",
   "execution_count": 23,
   "metadata": {},
   "outputs": [
    {
     "data": {
      "text/plain": [
       "[frozenset({5}), frozenset({2}), frozenset({3}), frozenset({1})]"
      ]
     },
     "execution_count": 23,
     "metadata": {},
     "output_type": "execute_result"
    }
   ],
   "source": [
    "L1, supportData = scanD(D, C1, 0.5)\n",
    "L1"
   ]
  },
  {
   "cell_type": "code",
   "execution_count": 24,
   "metadata": {},
   "outputs": [
    {
     "data": {
      "text/plain": [
       "{frozenset({1}): 0.5,\n",
       " frozenset({3}): 0.75,\n",
       " frozenset({4}): 0.25,\n",
       " frozenset({2}): 0.75,\n",
       " frozenset({5}): 0.75}"
      ]
     },
     "execution_count": 24,
     "metadata": {},
     "output_type": "execute_result"
    }
   ],
   "source": [
    "supportData"
   ]
  },
  {
   "cell_type": "code",
   "execution_count": 19,
   "metadata": {
    "collapsed": true
   },
   "outputs": [],
   "source": [
    "def aprioirGen(Lk, k):\n",
    "    retList = []\n",
    "    lenLk = len(Lk)\n",
    "    for i in range(lenLk):\n",
    "        for j in range(i+1, lenLk):\n",
    "            L1 = list(Lk[i])[:k-2]\n",
    "            L2 = list(Lk[j])[:k-2]\n",
    "            L1.sort()\n",
    "            L2.sort()\n",
    "            if L1 == L2:\n",
    "                retList.append(Lk[i] | Lk[j])\n",
    "    return retList"
   ]
  },
  {
   "cell_type": "code",
   "execution_count": 20,
   "metadata": {
    "collapsed": true
   },
   "outputs": [],
   "source": [
    "def apriori(dataSet, minSupport=0.5):\n",
    "    C1 = createC1(dataSet)\n",
    "    D = list(map(set, dataSet))\n",
    "    L1, supportData = scanD(D, C1, minSupport)\n",
    "    L = [L1]\n",
    "    k = 2\n",
    "    while (len(L[k-2]) > 0):\n",
    "        Ck = aprioirGen(L[k-2], k)\n",
    "        Lk, supK = scanD(D, Ck, minSupport)\n",
    "        supportData.update(supK)\n",
    "        L.append(Lk)\n",
    "        k += 1\n",
    "    return L, supportData"
   ]
  },
  {
   "cell_type": "code",
   "execution_count": 21,
   "metadata": {},
   "outputs": [
    {
     "data": {
      "text/plain": [
       "[[frozenset({5}), frozenset({2}), frozenset({3}), frozenset({1})],\n",
       " [frozenset({2, 3}), frozenset({3, 5}), frozenset({2, 5}), frozenset({1, 3})],\n",
       " [frozenset({2, 3, 5})],\n",
       " []]"
      ]
     },
     "execution_count": 21,
     "metadata": {},
     "output_type": "execute_result"
    }
   ],
   "source": [
    "L, supportData = apriori(dataSet)\n",
    "L"
   ]
  },
  {
   "cell_type": "code",
   "execution_count": 22,
   "metadata": {},
   "outputs": [
    {
     "data": {
      "text/plain": [
       "{frozenset({1}): 0.5,\n",
       " frozenset({3}): 0.75,\n",
       " frozenset({4}): 0.25,\n",
       " frozenset({2}): 0.75,\n",
       " frozenset({5}): 0.75,\n",
       " frozenset({1, 3}): 0.5,\n",
       " frozenset({2, 5}): 0.75,\n",
       " frozenset({3, 5}): 0.5,\n",
       " frozenset({2, 3}): 0.5,\n",
       " frozenset({1, 5}): 0.25,\n",
       " frozenset({1, 2}): 0.25,\n",
       " frozenset({2, 3, 5}): 0.5}"
      ]
     },
     "execution_count": 22,
     "metadata": {},
     "output_type": "execute_result"
    }
   ],
   "source": [
    "supportData"
   ]
  },
  {
   "cell_type": "markdown",
   "metadata": {},
   "source": [
    "## 4、从频繁项集中挖掘关联规则"
   ]
  },
  {
   "cell_type": "code",
   "execution_count": 34,
   "metadata": {
    "collapsed": true
   },
   "outputs": [],
   "source": [
    "# 关联规则生成函数\n",
    "def generateRules(L, supportData, minConf=0.7):\n",
    "    bigRuleList = []\n",
    "    # 只获取有两个或更多元素的集合\n",
    "    for i in range(1, len(L)):\n",
    "        for freqSet in L[i]:\n",
    "            H1 = [frozenset([item]) for item in freqSet]\n",
    "            if i > 1:\n",
    "                rulesFromConseq(freqSet, H1, supportData, bigRuleList, minConf)\n",
    "            else:\n",
    "                calcConf(freqSet, H1, supportData, bigRuleList, minConf)\n",
    "    return bigRuleList"
   ]
  },
  {
   "cell_type": "code",
   "execution_count": 31,
   "metadata": {
    "collapsed": true
   },
   "outputs": [],
   "source": [
    "# 生成候选规则集合\n",
    "def calcConf(freqSet, H, supportData, brl, minConf=0.7):\n",
    "    prunedH = []\n",
    "    for conseq in H:\n",
    "        conf = supportData[freqSet] / supportData[freqSet-conseq]\n",
    "        if conf >= minConf:\n",
    "            print('{0}-->{1} conf: {2}'.format(freqSet-conseq, conseq, conf))\n",
    "            brl.append((freqSet-conseq, conseq, conf))\n",
    "            prunedH.append(conseq)\n",
    "    return prunedH"
   ]
  },
  {
   "cell_type": "code",
   "execution_count": 30,
   "metadata": {
    "collapsed": true
   },
   "outputs": [],
   "source": [
    "# 对规则评估\n",
    "def rulesFromConseq(freqSet, H, supportData, brl, minConf=0.7):\n",
    "    m = len(H[0])\n",
    "    if (len(freqSet) > (m+1)):\n",
    "        Hmp1 = aprioirGen(H, m+1)\n",
    "        Hmp1 = calcConf(freqSet, Hmp1, supportData, brl, minConf)\n",
    "        if (len(Hmp1) > 1):\n",
    "            rulesFromConseq(freqSet, Hmp1, supportData, brl, minConf)"
   ]
  },
  {
   "cell_type": "code",
   "execution_count": 32,
   "metadata": {
    "collapsed": true
   },
   "outputs": [],
   "source": [
    "L, supportData = apriori(dataSet, minSupport=0.5)"
   ]
  },
  {
   "cell_type": "code",
   "execution_count": 36,
   "metadata": {},
   "outputs": [
    {
     "name": "stdout",
     "output_type": "stream",
     "text": [
      "frozenset({5})-->frozenset({2}) conf: 1.0\n",
      "frozenset({2})-->frozenset({5}) conf: 1.0\n",
      "frozenset({1})-->frozenset({3}) conf: 1.0\n"
     ]
    },
    {
     "data": {
      "text/plain": [
       "[(frozenset({5}), frozenset({2}), 1.0),\n",
       " (frozenset({2}), frozenset({5}), 1.0),\n",
       " (frozenset({1}), frozenset({3}), 1.0)]"
      ]
     },
     "execution_count": 36,
     "metadata": {},
     "output_type": "execute_result"
    }
   ],
   "source": [
    "rules = generateRules(L, supportData, minConf=0.7)\n",
    "rules"
   ]
  },
  {
   "cell_type": "code",
   "execution_count": 37,
   "metadata": {},
   "outputs": [
    {
     "name": "stdout",
     "output_type": "stream",
     "text": [
      "frozenset({3})-->frozenset({2}) conf: 0.6666666666666666\n",
      "frozenset({2})-->frozenset({3}) conf: 0.6666666666666666\n",
      "frozenset({5})-->frozenset({3}) conf: 0.6666666666666666\n",
      "frozenset({3})-->frozenset({5}) conf: 0.6666666666666666\n",
      "frozenset({5})-->frozenset({2}) conf: 1.0\n",
      "frozenset({2})-->frozenset({5}) conf: 1.0\n",
      "frozenset({3})-->frozenset({1}) conf: 0.6666666666666666\n",
      "frozenset({1})-->frozenset({3}) conf: 1.0\n",
      "frozenset({5})-->frozenset({2, 3}) conf: 0.6666666666666666\n",
      "frozenset({3})-->frozenset({2, 5}) conf: 0.6666666666666666\n",
      "frozenset({2})-->frozenset({3, 5}) conf: 0.6666666666666666\n"
     ]
    },
    {
     "data": {
      "text/plain": [
       "[(frozenset({3}), frozenset({2}), 0.6666666666666666),\n",
       " (frozenset({2}), frozenset({3}), 0.6666666666666666),\n",
       " (frozenset({5}), frozenset({3}), 0.6666666666666666),\n",
       " (frozenset({3}), frozenset({5}), 0.6666666666666666),\n",
       " (frozenset({5}), frozenset({2}), 1.0),\n",
       " (frozenset({2}), frozenset({5}), 1.0),\n",
       " (frozenset({3}), frozenset({1}), 0.6666666666666666),\n",
       " (frozenset({1}), frozenset({3}), 1.0),\n",
       " (frozenset({5}), frozenset({2, 3}), 0.6666666666666666),\n",
       " (frozenset({3}), frozenset({2, 5}), 0.6666666666666666),\n",
       " (frozenset({2}), frozenset({3, 5}), 0.6666666666666666)]"
      ]
     },
     "execution_count": 37,
     "metadata": {},
     "output_type": "execute_result"
    }
   ],
   "source": [
    "rules = generateRules(L, supportData, minConf=0.5)\n",
    "rules"
   ]
  },
  {
   "cell_type": "markdown",
   "metadata": {},
   "source": [
    "## 5、示例：发现毒蘑菇的相似特征"
   ]
  },
  {
   "cell_type": "code",
   "execution_count": 39,
   "metadata": {},
   "outputs": [],
   "source": [
    "mushDatSet = [line.split() for line in open('mushroom.dat').readlines()]"
   ]
  },
  {
   "cell_type": "code",
   "execution_count": 44,
   "metadata": {
    "collapsed": true
   },
   "outputs": [],
   "source": [
    "L, supportData = apriori(mushDatSet, minSupport=0.3)"
   ]
  },
  {
   "cell_type": "code",
   "execution_count": 46,
   "metadata": {},
   "outputs": [
    {
     "name": "stdout",
     "output_type": "stream",
     "text": [
      "frozenset({'28', '2'})\n",
      "frozenset({'53', '2'})\n",
      "frozenset({'23', '2'})\n",
      "frozenset({'34', '2'})\n",
      "frozenset({'36', '2'})\n",
      "frozenset({'59', '2'})\n",
      "frozenset({'63', '2'})\n",
      "frozenset({'67', '2'})\n",
      "frozenset({'76', '2'})\n",
      "frozenset({'85', '2'})\n",
      "frozenset({'86', '2'})\n",
      "frozenset({'90', '2'})\n",
      "frozenset({'93', '2'})\n",
      "frozenset({'39', '2'})\n"
     ]
    }
   ],
   "source": [
    "# 可以在结果中搜索包含有毒特征值2的频繁项集\n",
    "for item in L[1]:\n",
    "    if item.intersection('2'):\n",
    "        print(item)"
   ]
  },
  {
   "cell_type": "code",
   "execution_count": 47,
   "metadata": {},
   "outputs": [
    {
     "name": "stdout",
     "output_type": "stream",
     "text": [
      "frozenset({'59', '34', '28', '2'})\n",
      "frozenset({'63', '34', '28', '2'})\n",
      "frozenset({'63', '59', '28', '2'})\n",
      "frozenset({'85', '53', '28', '2'})\n",
      "frozenset({'85', '39', '28', '2'})\n",
      "frozenset({'85', '34', '28', '2'})\n",
      "frozenset({'85', '59', '28', '2'})\n",
      "frozenset({'85', '63', '28', '2'})\n",
      "frozenset({'85', '86', '28', '2'})\n",
      "frozenset({'85', '90', '28', '2'})\n",
      "frozenset({'86', '34', '28', '2'})\n",
      "frozenset({'86', '59', '28', '2'})\n",
      "frozenset({'86', '63', '28', '2'})\n",
      "frozenset({'86', '53', '28', '2'})\n",
      "frozenset({'90', '34', '28', '2'})\n",
      "frozenset({'90', '59', '28', '2'})\n",
      "frozenset({'90', '86', '28', '2'})\n",
      "frozenset({'90', '53', '28', '2'})\n",
      "frozenset({'53', '34', '28', '2'})\n",
      "frozenset({'39', '53', '28', '2'})\n",
      "frozenset({'39', '34', '28', '2'})\n",
      "frozenset({'39', '59', '28', '2'})\n",
      "frozenset({'39', '63', '28', '2'})\n",
      "frozenset({'39', '86', '28', '2'})\n",
      "frozenset({'39', '90', '28', '2'})\n",
      "frozenset({'85', '39', '53', '2'})\n",
      "frozenset({'85', '34', '53', '2'})\n",
      "frozenset({'85', '86', '53', '2'})\n",
      "frozenset({'85', '90', '53', '2'})\n",
      "frozenset({'86', '34', '53', '2'})\n",
      "frozenset({'90', '34', '53', '2'})\n",
      "frozenset({'90', '86', '53', '2'})\n",
      "frozenset({'39', '34', '53', '2'})\n",
      "frozenset({'39', '86', '53', '2'})\n",
      "frozenset({'39', '90', '53', '2'})\n",
      "frozenset({'23', '59', '34', '2'})\n",
      "frozenset({'23', '63', '34', '2'})\n",
      "frozenset({'23', '63', '59', '2'})\n",
      "frozenset({'23', '86', '34', '2'})\n",
      "frozenset({'23', '86', '59', '2'})\n",
      "frozenset({'23', '86', '63', '2'})\n",
      "frozenset({'23', '90', '34', '2'})\n",
      "frozenset({'23', '90', '59', '2'})\n",
      "frozenset({'23', '90', '86', '2'})\n",
      "frozenset({'23', '34', '93', '2'})\n",
      "frozenset({'23', '59', '93', '2'})\n",
      "frozenset({'23', '86', '93', '2'})\n",
      "frozenset({'23', '90', '93', '2'})\n",
      "frozenset({'23', '34', '36', '2'})\n",
      "frozenset({'23', '59', '36', '2'})\n",
      "frozenset({'23', '63', '36', '2'})\n",
      "frozenset({'23', '86', '36', '2'})\n",
      "frozenset({'23', '36', '93', '2'})\n",
      "frozenset({'59', '34', '36', '2'})\n",
      "frozenset({'63', '34', '36', '2'})\n",
      "frozenset({'63', '59', '36', '2'})\n",
      "frozenset({'86', '34', '36', '2'})\n",
      "frozenset({'86', '59', '36', '2'})\n",
      "frozenset({'86', '63', '36', '2'})\n",
      "frozenset({'90', '34', '36', '2'})\n",
      "frozenset({'90', '59', '36', '2'})\n",
      "frozenset({'90', '63', '36', '2'})\n",
      "frozenset({'90', '86', '36', '2'})\n",
      "frozenset({'34', '36', '93', '2'})\n",
      "frozenset({'59', '36', '93', '2'})\n",
      "frozenset({'63', '36', '93', '2'})\n",
      "frozenset({'86', '36', '93', '2'})\n",
      "frozenset({'90', '36', '93', '2'})\n",
      "frozenset({'63', '59', '34', '2'})\n",
      "frozenset({'86', '34', '67', '2'})\n",
      "frozenset({'86', '34', '76', '2'})\n",
      "frozenset({'85', '23', '34', '2'})\n",
      "frozenset({'85', '23', '59', '2'})\n",
      "frozenset({'85', '23', '63', '2'})\n",
      "frozenset({'85', '23', '86', '2'})\n",
      "frozenset({'85', '23', '90', '2'})\n",
      "frozenset({'85', '23', '93', '2'})\n",
      "frozenset({'85', '23', '36', '2'})\n",
      "frozenset({'85', '34', '36', '2'})\n",
      "frozenset({'85', '59', '36', '2'})\n",
      "frozenset({'85', '63', '36', '2'})\n",
      "frozenset({'85', '86', '36', '2'})\n",
      "frozenset({'85', '90', '36', '2'})\n",
      "frozenset({'85', '36', '93', '2'})\n",
      "frozenset({'85', '59', '34', '2'})\n",
      "frozenset({'85', '63', '34', '2'})\n",
      "frozenset({'85', '63', '59', '2'})\n",
      "frozenset({'85', '34', '67', '2'})\n",
      "frozenset({'85', '34', '76', '2'})\n",
      "frozenset({'85', '86', '76', '2'})\n",
      "frozenset({'85', '86', '34', '2'})\n",
      "frozenset({'85', '86', '59', '2'})\n",
      "frozenset({'85', '86', '63', '2'})\n",
      "frozenset({'85', '86', '67', '2'})\n",
      "frozenset({'85', '90', '34', '2'})\n",
      "frozenset({'85', '90', '59', '2'})\n",
      "frozenset({'85', '90', '63', '2'})\n",
      "frozenset({'85', '90', '86', '2'})\n",
      "frozenset({'85', '34', '93', '2'})\n",
      "frozenset({'85', '59', '93', '2'})\n",
      "frozenset({'85', '63', '93', '2'})\n",
      "frozenset({'85', '86', '93', '2'})\n",
      "frozenset({'85', '90', '93', '2'})\n",
      "frozenset({'86', '59', '34', '2'})\n",
      "frozenset({'86', '63', '34', '2'})\n",
      "frozenset({'86', '63', '59', '2'})\n",
      "frozenset({'90', '86', '34', '2'})\n",
      "frozenset({'90', '86', '59', '2'})\n",
      "frozenset({'90', '86', '63', '2'})\n",
      "frozenset({'86', '34', '93', '2'})\n",
      "frozenset({'86', '59', '93', '2'})\n",
      "frozenset({'86', '63', '93', '2'})\n",
      "frozenset({'86', '90', '93', '2'})\n",
      "frozenset({'90', '59', '34', '2'})\n",
      "frozenset({'90', '63', '34', '2'})\n",
      "frozenset({'90', '63', '59', '2'})\n",
      "frozenset({'90', '34', '93', '2'})\n",
      "frozenset({'90', '59', '93', '2'})\n",
      "frozenset({'90', '63', '93', '2'})\n",
      "frozenset({'59', '34', '93', '2'})\n",
      "frozenset({'63', '34', '93', '2'})\n",
      "frozenset({'63', '59', '93', '2'})\n",
      "frozenset({'39', '23', '34', '2'})\n",
      "frozenset({'39', '23', '36', '2'})\n",
      "frozenset({'39', '34', '36', '2'})\n",
      "frozenset({'39', '59', '36', '2'})\n",
      "frozenset({'39', '63', '36', '2'})\n",
      "frozenset({'39', '86', '36', '2'})\n",
      "frozenset({'39', '90', '36', '2'})\n",
      "frozenset({'39', '36', '93', '2'})\n",
      "frozenset({'39', '23', '59', '2'})\n",
      "frozenset({'39', '59', '34', '2'})\n",
      "frozenset({'39', '23', '63', '2'})\n",
      "frozenset({'39', '63', '34', '2'})\n",
      "frozenset({'39', '63', '59', '2'})\n",
      "frozenset({'39', '34', '67', '2'})\n",
      "frozenset({'39', '86', '67', '2'})\n",
      "frozenset({'39', '34', '76', '2'})\n",
      "frozenset({'39', '86', '76', '2'})\n",
      "frozenset({'85', '39', '23', '2'})\n",
      "frozenset({'85', '39', '34', '2'})\n",
      "frozenset({'85', '39', '36', '2'})\n",
      "frozenset({'85', '39', '59', '2'})\n",
      "frozenset({'85', '39', '63', '2'})\n",
      "frozenset({'85', '39', '67', '2'})\n",
      "frozenset({'85', '39', '76', '2'})\n",
      "frozenset({'85', '39', '86', '2'})\n",
      "frozenset({'85', '39', '90', '2'})\n",
      "frozenset({'85', '39', '93', '2'})\n",
      "frozenset({'39', '23', '86', '2'})\n",
      "frozenset({'39', '86', '34', '2'})\n",
      "frozenset({'39', '86', '59', '2'})\n",
      "frozenset({'39', '86', '63', '2'})\n",
      "frozenset({'39', '90', '34', '2'})\n",
      "frozenset({'39', '90', '59', '2'})\n",
      "frozenset({'39', '90', '63', '2'})\n",
      "frozenset({'39', '90', '86', '2'})\n",
      "frozenset({'39', '23', '93', '2'})\n",
      "frozenset({'39', '34', '93', '2'})\n",
      "frozenset({'39', '59', '93', '2'})\n",
      "frozenset({'39', '63', '93', '2'})\n",
      "frozenset({'39', '86', '93', '2'})\n",
      "frozenset({'39', '90', '93', '2'})\n"
     ]
    }
   ],
   "source": [
    "for item in L[3]:\n",
    "    if item.intersection('2'):\n",
    "        print(item)"
   ]
  },
  {
   "cell_type": "markdown",
   "metadata": {},
   "source": [
    "> 总结：关联分析适用于发现大数据集中元素见有趣关系的一个工具集，可以才两种方式来量化，第一种是使用频繁项集，第二种方式是关联规则。\n",
    "\n",
    "> Apriori算法使用Apriori原理来提高计算的效率。"
   ]
  },
  {
   "cell_type": "code",
   "execution_count": null,
   "metadata": {
    "collapsed": true
   },
   "outputs": [],
   "source": []
  }
 ],
 "metadata": {
  "kernelspec": {
   "display_name": "Python 3",
   "language": "python",
   "name": "python3"
  },
  "language_info": {
   "codemirror_mode": {
    "name": "ipython",
    "version": 3
   },
   "file_extension": ".py",
   "mimetype": "text/x-python",
   "name": "python",
   "nbconvert_exporter": "python",
   "pygments_lexer": "ipython3",
   "version": "3.6.3"
  }
 },
 "nbformat": 4,
 "nbformat_minor": 2
}
