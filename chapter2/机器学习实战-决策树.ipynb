{
 "cells": [
  {
   "cell_type": "markdown",
   "metadata": {},
   "source": [
    "## 1. 决策树的构造"
   ]
  },
  {
   "cell_type": "markdown",
   "metadata": {},
   "source": [
    "> 优点：计算复杂度不高，输出结果易于理解，对中间值的缺失不敏感，可以处理不想管特征数据\n",
    "\n",
    "> 缺点：可能会产生过度匹配问题\n",
    "\n",
    "> 适用数据类型：数字型或标称型"
   ]
  },
  {
   "cell_type": "markdown",
   "metadata": {},
   "source": [
    "这里将采用[ID3](https://en.wikipedia.org/wiki/ID3_algorithm)算法"
   ]
  },
  {
   "cell_type": "markdown",
   "metadata": {},
   "source": [
    "### 1.1 信息增益"
   ]
  },
  {
   "cell_type": "markdown",
   "metadata": {},
   "source": [
    "划分数据集的最大原则是：将无序的数据变得更加有序。\n",
    "\n",
    "组织杂乱无章数据的一种方法就是使用信心论度量信息，在划分数据集之前之后信息发生的变化称为**信息增益**，获得信息增益最高的特征就是最好的选择。"
   ]
  },
  {
   "cell_type": "markdown",
   "metadata": {},
   "source": [
    "信息熵定义为信息的期望值：\n",
    "\n",
    "$l\\left( x_{i}\\right) =-\\log _{2}p\\left( x_{i}\\right)$\n",
    "\n",
    "$H=-\\sum ^{n}_{i=1}p\\left( x_{i}\\right) \\log _{2}p\\left( x_{i}\\right)$"
   ]
  },
  {
   "cell_type": "code",
   "execution_count": 1,
   "metadata": {
    "collapsed": true
   },
   "outputs": [],
   "source": [
    "from math import log"
   ]
  },
  {
   "cell_type": "code",
   "execution_count": 2,
   "metadata": {
    "collapsed": true
   },
   "outputs": [],
   "source": [
    "# 计算熵\n",
    "def calcShannonEnt(dataSet):\n",
    "    numEntries = len(dataSet)\n",
    "    labelCounts = {}\n",
    "    for fectVec in dataSet:\n",
    "        currentLabel = fectVec[-1]\n",
    "        labelCounts[currentLabel] = labelCounts.get(currentLabel, 0) + 1\n",
    "    shannonEnt = 0.0\n",
    "    for key in labelCounts:\n",
    "        prob = float(labelCounts[key]) / numEntries\n",
    "        shannonEnt -= prob * log(prob, 2)\n",
    "    return shannonEnt"
   ]
  },
  {
   "cell_type": "code",
   "execution_count": 93,
   "metadata": {
    "collapsed": true
   },
   "outputs": [],
   "source": [
    "# 构造一个测试样本\n",
    "def createDataSet():\n",
    "    dataSet = [[1, 1, 'yes'],\n",
    "              [1, 1, 'yes'],\n",
    "              [1, 0, 'no'],\n",
    "              [0, 1, 'no'],\n",
    "              [0, 1, 'no']]\n",
    "    labels = ['no surfacing', 'flippers']\n",
    "    return dataSet, labels"
   ]
  },
  {
   "cell_type": "code",
   "execution_count": 106,
   "metadata": {},
   "outputs": [
    {
     "data": {
      "text/plain": [
       "[[1, 1, 'yes'], [1, 1, 'yes'], [1, 0, 'no'], [0, 1, 'no'], [0, 1, 'no']]"
      ]
     },
     "execution_count": 106,
     "metadata": {},
     "output_type": "execute_result"
    }
   ],
   "source": [
    "myDat, labels = createDataSet()\n",
    "myDat"
   ]
  },
  {
   "cell_type": "code",
   "execution_count": 95,
   "metadata": {},
   "outputs": [
    {
     "data": {
      "text/plain": [
       "0.9709505944546686"
      ]
     },
     "execution_count": 95,
     "metadata": {},
     "output_type": "execute_result"
    }
   ],
   "source": [
    "calcShannonEnt(myDat)"
   ]
  },
  {
   "cell_type": "markdown",
   "metadata": {},
   "source": [
    "> 另外一个度量集合无序程度的方法是“基尼不纯度”，这里不考虑。"
   ]
  },
  {
   "cell_type": "markdown",
   "metadata": {},
   "source": [
    "### 1.2 划分数据集"
   ]
  },
  {
   "cell_type": "code",
   "execution_count": 36,
   "metadata": {
    "collapsed": true
   },
   "outputs": [],
   "source": [
    "def splitDataSet(dataSet, axis, value):\n",
    "    retDataSet = []\n",
    "    for featVec in dataSet:\n",
    "        if featVec[axis] == value:\n",
    "            reducedFeatVec = featVec[:axis]\n",
    "            reducedFeatVec.extend(featVec[axis+1:])\n",
    "            retDataSet.append(reducedFeatVec)\n",
    "    return retDataSet"
   ]
  },
  {
   "cell_type": "code",
   "execution_count": 37,
   "metadata": {},
   "outputs": [
    {
     "data": {
      "text/plain": [
       "[[1, 'no'], [1, 'no']]"
      ]
     },
     "execution_count": 37,
     "metadata": {},
     "output_type": "execute_result"
    }
   ],
   "source": [
    "splitDataSet(myDat, 0, 0)"
   ]
  },
  {
   "cell_type": "markdown",
   "metadata": {},
   "source": [
    "选择最好的数据集划分方式"
   ]
  },
  {
   "cell_type": "code",
   "execution_count": 38,
   "metadata": {
    "collapsed": true
   },
   "outputs": [],
   "source": [
    "def chooseBestFeatureToSplit(dataSet):\n",
    "    numFeatures = len(dataSet[0]) - 1\n",
    "    baseEntropy = calcShannonEnt(dataSet)\n",
    "    bestInfoGain = 0.0\n",
    "    bestFeature = -1\n",
    "    for i in range(numFeatures):\n",
    "        featList = [example[i] for example in dataSet]\n",
    "        uniqueVals = set(featList)\n",
    "        newEntropy = 0.0\n",
    "        for value in uniqueVals:\n",
    "            subDataSet = splitDataSet(dataSet, i, value)\n",
    "            prob = len(subDataSet)/float(len(dataSet))\n",
    "            newEntropy += prob * calcShannonEnt(subDataSet)\n",
    "        infoGain = baseEntropy - newEntropy\n",
    "        if infoGain > bestInfoGain:\n",
    "            bestInfoGain = infoGain\n",
    "            bestFeature = i\n",
    "    return bestFeature"
   ]
  },
  {
   "cell_type": "markdown",
   "metadata": {},
   "source": [
    "### 1.3 递归构建决策树"
   ]
  },
  {
   "cell_type": "markdown",
   "metadata": {},
   "source": [
    "有的时候数据集已经处理了所有属性，但是类标签依旧不是唯一的，这种情况通常采用**多数表决**的方式。"
   ]
  },
  {
   "cell_type": "code",
   "execution_count": 92,
   "metadata": {
    "collapsed": true
   },
   "outputs": [],
   "source": [
    "def majorityCnt(classList):\n",
    "    classCount = {}\n",
    "    for vote in classList:\n",
    "        classCount[vote] = classCount.get(vote, 0) + 1\n",
    "    sortedClassCount = sorted(classCount.items(), key=operator.itemgetter(1), reverse=True)\n",
    "    return sortedClassCount[0][0]"
   ]
  },
  {
   "cell_type": "code",
   "execution_count": 90,
   "metadata": {
    "collapsed": true
   },
   "outputs": [],
   "source": [
    "# 创建树\n",
    "def createTree(dataSet, labels):\n",
    "    classList = [example[-1] for example in dataSet]\n",
    "    # 终止条件\n",
    "    if classList.count(classList[0]) == len(classList): # 类别相同\n",
    "        return classList[0]\n",
    "    if len(dataSet[0]) == 1: # 遍历完所有特征，选择出现次数最多的\n",
    "        return majorityCnt(classList)\n",
    "    bestFeat = chooseBestFeatureToSplit(dataSet)\n",
    "    bestFeatLabel = labels[bestFeat]\n",
    "    myTree = {bestFeatLabel: {}}\n",
    "    del labels[bestFeat]\n",
    "    featValue = [example[bestFeat] for example in dataSet]\n",
    "    uniqueVals = set(featValue)\n",
    "    for value in uniqueVals:\n",
    "        subLabels = labels[:]\n",
    "        myTree[bestFeatLabel][value] = createTree(splitDataSet(dataSet, bestFeat, value), subLabels)\n",
    "    return myTree"
   ]
  },
  {
   "cell_type": "code",
   "execution_count": 107,
   "metadata": {},
   "outputs": [
    {
     "data": {
      "text/plain": [
       "{'no surfacing': {0: 'no', 1: {'flippers': {0: 'no', 1: 'yes'}}}}"
      ]
     },
     "execution_count": 107,
     "metadata": {},
     "output_type": "execute_result"
    }
   ],
   "source": [
    "myTree = createTree(myDat, labels)\n",
    "myTree"
   ]
  },
  {
   "cell_type": "markdown",
   "metadata": {},
   "source": [
    "## 2. 绘制决策树"
   ]
  },
  {
   "cell_type": "markdown",
   "metadata": {},
   "source": [
    "这里借助graphviz包"
   ]
  },
  {
   "cell_type": "code",
   "execution_count": 18,
   "metadata": {
    "collapsed": true
   },
   "outputs": [],
   "source": [
    "from graphviz import Digraph"
   ]
  },
  {
   "cell_type": "code",
   "execution_count": 27,
   "metadata": {},
   "outputs": [
    {
     "data": {
      "image/svg+xml": [
       "<?xml version=\"1.0\" encoding=\"UTF-8\" standalone=\"no\"?>\r\n",
       "<!DOCTYPE svg PUBLIC \"-//W3C//DTD SVG 1.1//EN\"\r\n",
       " \"http://www.w3.org/Graphics/SVG/1.1/DTD/svg11.dtd\">\r\n",
       "<!-- Generated by graphviz version 2.38.0 (20140413.2041)\r\n",
       " -->\r\n",
       "<!-- Title: %3 Pages: 1 -->\r\n",
       "<svg width=\"194pt\" height=\"116pt\"\r\n",
       " viewBox=\"0.00 0.00 194.49 116.00\" xmlns=\"http://www.w3.org/2000/svg\" xmlns:xlink=\"http://www.w3.org/1999/xlink\">\r\n",
       "<g id=\"graph0\" class=\"graph\" transform=\"scale(1 1) rotate(0) translate(4 112)\">\r\n",
       "<title>%3</title>\r\n",
       "<polygon fill=\"white\" stroke=\"none\" points=\"-4,4 -4,-112 190.493,-112 190.493,4 -4,4\"/>\r\n",
       "<!-- Hello -->\r\n",
       "<g id=\"node1\" class=\"node\"><title>Hello</title>\r\n",
       "<ellipse fill=\"none\" stroke=\"black\" cx=\"85.4469\" cy=\"-90\" rx=\"29.795\" ry=\"18\"/>\r\n",
       "<text text-anchor=\"middle\" x=\"85.4469\" y=\"-86.3\" font-family=\"Times New Roman,serif\" font-size=\"14.00\">Hello</text>\r\n",
       "</g>\r\n",
       "<!-- World -->\r\n",
       "<g id=\"node2\" class=\"node\"><title>World</title>\r\n",
       "<ellipse fill=\"none\" stroke=\"black\" cx=\"34.4469\" cy=\"-18\" rx=\"34.394\" ry=\"18\"/>\r\n",
       "<text text-anchor=\"middle\" x=\"34.4469\" y=\"-14.3\" font-family=\"Times New Roman,serif\" font-size=\"14.00\">World</text>\r\n",
       "</g>\r\n",
       "<!-- Hello&#45;&gt;World -->\r\n",
       "<g id=\"edge1\" class=\"edge\"><title>Hello&#45;&gt;World</title>\r\n",
       "<path fill=\"none\" stroke=\"black\" d=\"M73.8743,-73.1159C67.5097,-64.3803 59.4754,-53.3528 52.3226,-43.5352\"/>\r\n",
       "<polygon fill=\"black\" stroke=\"black\" points=\"55.0452,-41.3284 46.3278,-35.307 49.3875,-45.4504 55.0452,-41.3284\"/>\r\n",
       "</g>\r\n",
       "<!-- Not World -->\r\n",
       "<g id=\"node3\" class=\"node\"><title>Not World</title>\r\n",
       "<ellipse fill=\"none\" stroke=\"black\" cx=\"136.447\" cy=\"-18\" rx=\"50.0912\" ry=\"18\"/>\r\n",
       "<text text-anchor=\"middle\" x=\"136.447\" y=\"-14.3\" font-family=\"Times New Roman,serif\" font-size=\"14.00\">Not World</text>\r\n",
       "</g>\r\n",
       "<!-- Hello&#45;&gt;Not World -->\r\n",
       "<g id=\"edge2\" class=\"edge\"><title>Hello&#45;&gt;Not World</title>\r\n",
       "<path fill=\"none\" stroke=\"black\" d=\"M97.0196,-73.1159C103.293,-64.5051 111.189,-53.6674 118.264,-43.9567\"/>\r\n",
       "<polygon fill=\"black\" stroke=\"black\" points=\"121.149,-45.9408 124.209,-35.7973 115.491,-41.8187 121.149,-45.9408\"/>\r\n",
       "</g>\r\n",
       "</g>\r\n",
       "</svg>\r\n"
      ],
      "text/plain": [
       "<graphviz.dot.Digraph at 0x1a32a93a668>"
      ]
     },
     "execution_count": 27,
     "metadata": {},
     "output_type": "execute_result"
    }
   ],
   "source": [
    "dot = Digraph()\n",
    "dot.edge('Hello', 'World')\n",
    "dot.edge('Hello', 'Not World')\n",
    "dot"
   ]
  },
  {
   "cell_type": "code",
   "execution_count": 124,
   "metadata": {
    "collapsed": true
   },
   "outputs": [],
   "source": [
    "dot = Digraph()\n",
    "def plotRoot(root, child, id=''):\n",
    "    id += str(root)\n",
    "    dot.node(id, str(root))\n",
    "    if type(child).__name__ == 'dict':\n",
    "        for key in child:\n",
    "            dot.node(id+str(key), str(key))\n",
    "            dot.edge(id, id+str(key))\n",
    "            plotRoot(key, child[key], id)\n",
    "    else:\n",
    "        dot.node(id+str(child), str(child))\n",
    "        dot.edge(id, id+str(child))\n",
    "                \n",
    "def plotTree(tree):\n",
    "    for key in tree:\n",
    "        plotRoot(key, tree[key])\n",
    "        "
   ]
  },
  {
   "cell_type": "code",
   "execution_count": 125,
   "metadata": {},
   "outputs": [
    {
     "data": {
      "image/svg+xml": [
       "<?xml version=\"1.0\" encoding=\"UTF-8\" standalone=\"no\"?>\r\n",
       "<!DOCTYPE svg PUBLIC \"-//W3C//DTD SVG 1.1//EN\"\r\n",
       " \"http://www.w3.org/Graphics/SVG/1.1/DTD/svg11.dtd\">\r\n",
       "<!-- Generated by graphviz version 2.38.0 (20140413.2041)\r\n",
       " -->\r\n",
       "<!-- Title: %3 Pages: 1 -->\r\n",
       "<svg width=\"181pt\" height=\"332pt\"\r\n",
       " viewBox=\"0.00 0.00 181.00 332.00\" xmlns=\"http://www.w3.org/2000/svg\" xmlns:xlink=\"http://www.w3.org/1999/xlink\">\r\n",
       "<g id=\"graph0\" class=\"graph\" transform=\"scale(1 1) rotate(0) translate(4 328)\">\r\n",
       "<title>%3</title>\r\n",
       "<polygon fill=\"white\" stroke=\"none\" points=\"-4,4 -4,-328 177,-328 177,4 -4,4\"/>\r\n",
       "<!-- no surfacing -->\r\n",
       "<g id=\"node1\" class=\"node\"><title>no surfacing</title>\r\n",
       "<ellipse fill=\"none\" stroke=\"black\" cx=\"69\" cy=\"-306\" rx=\"55.7903\" ry=\"18\"/>\r\n",
       "<text text-anchor=\"middle\" x=\"69\" y=\"-302.3\" font-family=\"Times New Roman,serif\" font-size=\"14.00\">no surfacing</text>\r\n",
       "</g>\r\n",
       "<!-- no surfacing0 -->\r\n",
       "<g id=\"node2\" class=\"node\"><title>no surfacing0</title>\r\n",
       "<ellipse fill=\"none\" stroke=\"black\" cx=\"32\" cy=\"-234\" rx=\"27\" ry=\"18\"/>\r\n",
       "<text text-anchor=\"middle\" x=\"32\" y=\"-230.3\" font-family=\"Times New Roman,serif\" font-size=\"14.00\">0</text>\r\n",
       "</g>\r\n",
       "<!-- no surfacing&#45;&gt;no surfacing0 -->\r\n",
       "<g id=\"edge1\" class=\"edge\"><title>no surfacing&#45;&gt;no surfacing0</title>\r\n",
       "<path fill=\"none\" stroke=\"black\" d=\"M60.0433,-288.055C55.6623,-279.767 50.298,-269.618 45.4385,-260.424\"/>\r\n",
       "<polygon fill=\"black\" stroke=\"black\" points=\"48.3869,-258.512 40.6194,-251.307 42.1982,-261.784 48.3869,-258.512\"/>\r\n",
       "</g>\r\n",
       "<!-- no surfacing1 -->\r\n",
       "<g id=\"node4\" class=\"node\"><title>no surfacing1</title>\r\n",
       "<ellipse fill=\"none\" stroke=\"black\" cx=\"107\" cy=\"-234\" rx=\"27\" ry=\"18\"/>\r\n",
       "<text text-anchor=\"middle\" x=\"107\" y=\"-230.3\" font-family=\"Times New Roman,serif\" font-size=\"14.00\">1</text>\r\n",
       "</g>\r\n",
       "<!-- no surfacing&#45;&gt;no surfacing1 -->\r\n",
       "<g id=\"edge3\" class=\"edge\"><title>no surfacing&#45;&gt;no surfacing1</title>\r\n",
       "<path fill=\"none\" stroke=\"black\" d=\"M78.1987,-288.055C82.7455,-279.679 88.3236,-269.404 93.3558,-260.134\"/>\r\n",
       "<polygon fill=\"black\" stroke=\"black\" points=\"96.4527,-261.765 98.1476,-251.307 90.3007,-258.426 96.4527,-261.765\"/>\r\n",
       "</g>\r\n",
       "<!-- no surfacing0no -->\r\n",
       "<g id=\"node3\" class=\"node\"><title>no surfacing0no</title>\r\n",
       "<ellipse fill=\"none\" stroke=\"black\" cx=\"27\" cy=\"-162\" rx=\"27\" ry=\"18\"/>\r\n",
       "<text text-anchor=\"middle\" x=\"27\" y=\"-158.3\" font-family=\"Times New Roman,serif\" font-size=\"14.00\">no</text>\r\n",
       "</g>\r\n",
       "<!-- no surfacing0&#45;&gt;no surfacing0no -->\r\n",
       "<g id=\"edge2\" class=\"edge\"><title>no surfacing0&#45;&gt;no surfacing0no</title>\r\n",
       "<path fill=\"none\" stroke=\"black\" d=\"M30.764,-215.697C30.2131,-207.983 29.5509,-198.712 28.9366,-190.112\"/>\r\n",
       "<polygon fill=\"black\" stroke=\"black\" points=\"32.4254,-189.83 28.2217,-180.104 25.4432,-190.328 32.4254,-189.83\"/>\r\n",
       "</g>\r\n",
       "<!-- no surfacing1flippers -->\r\n",
       "<g id=\"node5\" class=\"node\"><title>no surfacing1flippers</title>\r\n",
       "<ellipse fill=\"none\" stroke=\"black\" cx=\"110\" cy=\"-162\" rx=\"38.1938\" ry=\"18\"/>\r\n",
       "<text text-anchor=\"middle\" x=\"110\" y=\"-158.3\" font-family=\"Times New Roman,serif\" font-size=\"14.00\">flippers</text>\r\n",
       "</g>\r\n",
       "<!-- no surfacing1&#45;&gt;no surfacing1flippers -->\r\n",
       "<g id=\"edge4\" class=\"edge\"><title>no surfacing1&#45;&gt;no surfacing1flippers</title>\r\n",
       "<path fill=\"none\" stroke=\"black\" d=\"M107.742,-215.697C108.072,-207.983 108.469,-198.712 108.838,-190.112\"/>\r\n",
       "<polygon fill=\"black\" stroke=\"black\" points=\"112.335,-190.245 109.267,-180.104 105.342,-189.945 112.335,-190.245\"/>\r\n",
       "</g>\r\n",
       "<!-- no surfacing1flippers0 -->\r\n",
       "<g id=\"node6\" class=\"node\"><title>no surfacing1flippers0</title>\r\n",
       "<ellipse fill=\"none\" stroke=\"black\" cx=\"74\" cy=\"-90\" rx=\"27\" ry=\"18\"/>\r\n",
       "<text text-anchor=\"middle\" x=\"74\" y=\"-86.3\" font-family=\"Times New Roman,serif\" font-size=\"14.00\">0</text>\r\n",
       "</g>\r\n",
       "<!-- no surfacing1flippers&#45;&gt;no surfacing1flippers0 -->\r\n",
       "<g id=\"edge5\" class=\"edge\"><title>no surfacing1flippers&#45;&gt;no surfacing1flippers0</title>\r\n",
       "<path fill=\"none\" stroke=\"black\" d=\"M101.469,-144.411C97.1645,-136.042 91.8508,-125.71 87.0473,-116.37\"/>\r\n",
       "<polygon fill=\"black\" stroke=\"black\" points=\"90.1563,-114.762 82.4703,-107.47 83.9313,-117.964 90.1563,-114.762\"/>\r\n",
       "</g>\r\n",
       "<!-- no surfacing1flippers1 -->\r\n",
       "<g id=\"node8\" class=\"node\"><title>no surfacing1flippers1</title>\r\n",
       "<ellipse fill=\"none\" stroke=\"black\" cx=\"146\" cy=\"-90\" rx=\"27\" ry=\"18\"/>\r\n",
       "<text text-anchor=\"middle\" x=\"146\" y=\"-86.3\" font-family=\"Times New Roman,serif\" font-size=\"14.00\">1</text>\r\n",
       "</g>\r\n",
       "<!-- no surfacing1flippers&#45;&gt;no surfacing1flippers1 -->\r\n",
       "<g id=\"edge7\" class=\"edge\"><title>no surfacing1flippers&#45;&gt;no surfacing1flippers1</title>\r\n",
       "<path fill=\"none\" stroke=\"black\" d=\"M118.531,-144.411C122.836,-136.042 128.149,-125.71 132.953,-116.37\"/>\r\n",
       "<polygon fill=\"black\" stroke=\"black\" points=\"136.069,-117.964 137.53,-107.47 129.844,-114.762 136.069,-117.964\"/>\r\n",
       "</g>\r\n",
       "<!-- no surfacing1flippers0no -->\r\n",
       "<g id=\"node7\" class=\"node\"><title>no surfacing1flippers0no</title>\r\n",
       "<ellipse fill=\"none\" stroke=\"black\" cx=\"74\" cy=\"-18\" rx=\"27\" ry=\"18\"/>\r\n",
       "<text text-anchor=\"middle\" x=\"74\" y=\"-14.3\" font-family=\"Times New Roman,serif\" font-size=\"14.00\">no</text>\r\n",
       "</g>\r\n",
       "<!-- no surfacing1flippers0&#45;&gt;no surfacing1flippers0no -->\r\n",
       "<g id=\"edge6\" class=\"edge\"><title>no surfacing1flippers0&#45;&gt;no surfacing1flippers0no</title>\r\n",
       "<path fill=\"none\" stroke=\"black\" d=\"M74,-71.6966C74,-63.9827 74,-54.7125 74,-46.1124\"/>\r\n",
       "<polygon fill=\"black\" stroke=\"black\" points=\"77.5001,-46.1043 74,-36.1043 70.5001,-46.1044 77.5001,-46.1043\"/>\r\n",
       "</g>\r\n",
       "<!-- no surfacing1flippers1yes -->\r\n",
       "<g id=\"node9\" class=\"node\"><title>no surfacing1flippers1yes</title>\r\n",
       "<ellipse fill=\"none\" stroke=\"black\" cx=\"146\" cy=\"-18\" rx=\"27\" ry=\"18\"/>\r\n",
       "<text text-anchor=\"middle\" x=\"146\" y=\"-14.3\" font-family=\"Times New Roman,serif\" font-size=\"14.00\">yes</text>\r\n",
       "</g>\r\n",
       "<!-- no surfacing1flippers1&#45;&gt;no surfacing1flippers1yes -->\r\n",
       "<g id=\"edge8\" class=\"edge\"><title>no surfacing1flippers1&#45;&gt;no surfacing1flippers1yes</title>\r\n",
       "<path fill=\"none\" stroke=\"black\" d=\"M146,-71.6966C146,-63.9827 146,-54.7125 146,-46.1124\"/>\r\n",
       "<polygon fill=\"black\" stroke=\"black\" points=\"149.5,-46.1043 146,-36.1043 142.5,-46.1044 149.5,-46.1043\"/>\r\n",
       "</g>\r\n",
       "</g>\r\n",
       "</svg>\r\n"
      ],
      "text/plain": [
       "<graphviz.dot.Digraph at 0x1a32ac330f0>"
      ]
     },
     "execution_count": 125,
     "metadata": {},
     "output_type": "execute_result"
    }
   ],
   "source": [
    "plotTree(myTree)\n",
    "dot"
   ]
  },
  {
   "cell_type": "markdown",
   "metadata": {},
   "source": [
    "## 3.测试和存储分类器"
   ]
  },
  {
   "cell_type": "markdown",
   "metadata": {},
   "source": [
    "### 3.1 测试算法：使用决策树执行分类"
   ]
  },
  {
   "cell_type": "code",
   "execution_count": 32,
   "metadata": {
    "collapsed": true
   },
   "outputs": [],
   "source": [
    "def classify(inputTree, featLabels, testVec):\n",
    "    firstStr = list(inputTree.keys())[0]\n",
    "    secondDict = inputTree[firstStr]\n",
    "    featIndex = featLabels.index(firstStr)\n",
    "    for key in secondDict.keys():\n",
    "        if testVec[featIndex] == key:\n",
    "            if type(secondDict[key]).__name__ == 'dict':\n",
    "                classLabel = classify(secondDict[key], featLabels, testVec)\n",
    "            else:\n",
    "                classLabel = secondDict[key]\n",
    "    return classLabel"
   ]
  },
  {
   "cell_type": "code",
   "execution_count": 33,
   "metadata": {},
   "outputs": [
    {
     "data": {
      "text/plain": [
       "'no'"
      ]
     },
     "execution_count": 33,
     "metadata": {},
     "output_type": "execute_result"
    }
   ],
   "source": [
    "myDat, labels = createDataSet()\n",
    "myTree = createTree(myDat, labels[:])\n",
    "classify(myTree, labels, [1, 0])"
   ]
  },
  {
   "cell_type": "markdown",
   "metadata": {},
   "source": [
    "### 3.2 决策树的存储"
   ]
  },
  {
   "cell_type": "markdown",
   "metadata": {
    "collapsed": true
   },
   "source": [
    "决策树的生成结果可以存储在硬盘上，而不用每次都要重新生成。"
   ]
  },
  {
   "cell_type": "code",
   "execution_count": 108,
   "metadata": {},
   "outputs": [],
   "source": [
    "def storeTree(inputTree, filename):\n",
    "    import pickle\n",
    "    f = open(filename, 'wb')\n",
    "    pickle.dump(inputTree, f)\n",
    "    f.close()\n",
    "\n",
    "def grabTree(filename):\n",
    "    import pickle\n",
    "    with open(filename, 'rb') as f:\n",
    "        return pickle.load(f)"
   ]
  },
  {
   "cell_type": "code",
   "execution_count": 109,
   "metadata": {},
   "outputs": [
    {
     "data": {
      "text/plain": [
       "{'no surfacing': {0: 'no', 1: {'flippers': {0: 'no', 1: 'yes'}}}}"
      ]
     },
     "execution_count": 109,
     "metadata": {},
     "output_type": "execute_result"
    }
   ],
   "source": [
    "storeTree(myTree, 'classifierStorage.txt')\n",
    "myTree = grabTree('classifierStorage.txt')\n",
    "myTree"
   ]
  },
  {
   "cell_type": "markdown",
   "metadata": {},
   "source": [
    "## 4.示例：使用决策树预测隐形眼睛类型"
   ]
  },
  {
   "cell_type": "code",
   "execution_count": 110,
   "metadata": {
    "collapsed": true
   },
   "outputs": [],
   "source": [
    "with open('lenses.txt') as f:\n",
    "    lenses = [item.strip().split('\\t') for item in f.readlines()]\n",
    "    lensesLabels = ['age', 'prescript', 'astigmatic', 'tearRate']\n",
    "    lensesTree = createTree(lenses, lensesLabels)"
   ]
  },
  {
   "cell_type": "code",
   "execution_count": 111,
   "metadata": {},
   "outputs": [
    {
     "data": {
      "text/plain": [
       "{'tearRate': {'normal': {'astigmatic': {'no': {'age': {'pre': 'soft',\n",
       "      'presbyopic': {'prescript': {'hyper': 'soft', 'myope': 'no lenses'}},\n",
       "      'young': 'soft'}},\n",
       "    'yes': {'prescript': {'hyper': {'age': {'pre': 'no lenses',\n",
       "        'presbyopic': 'no lenses',\n",
       "        'young': 'hard'}},\n",
       "      'myope': 'hard'}}}},\n",
       "  'reduced': 'no lenses'}}"
      ]
     },
     "execution_count": 111,
     "metadata": {},
     "output_type": "execute_result"
    }
   ],
   "source": [
    "lensesTree"
   ]
  },
  {
   "cell_type": "code",
   "execution_count": 127,
   "metadata": {},
   "outputs": [
    {
     "data": {
      "image/svg+xml": [
       "<?xml version=\"1.0\" encoding=\"UTF-8\" standalone=\"no\"?>\r\n",
       "<!DOCTYPE svg PUBLIC \"-//W3C//DTD SVG 1.1//EN\"\r\n",
       " \"http://www.w3.org/Graphics/SVG/1.1/DTD/svg11.dtd\">\r\n",
       "<!-- Generated by graphviz version 2.38.0 (20140413.2041)\r\n",
       " -->\r\n",
       "<!-- Title: %3 Pages: 1 -->\r\n",
       "<svg width=\"482pt\" height=\"620pt\"\r\n",
       " viewBox=\"0.00 0.00 481.94 620.00\" xmlns=\"http://www.w3.org/2000/svg\" xmlns:xlink=\"http://www.w3.org/1999/xlink\">\r\n",
       "<g id=\"graph0\" class=\"graph\" transform=\"scale(1 1) rotate(0) translate(4 616)\">\r\n",
       "<title>%3</title>\r\n",
       "<polygon fill=\"white\" stroke=\"none\" points=\"-4,4 -4,-616 477.944,-616 477.944,4 -4,4\"/>\r\n",
       "<!-- tearRate -->\r\n",
       "<g id=\"node1\" class=\"node\"><title>tearRate</title>\r\n",
       "<ellipse fill=\"none\" stroke=\"black\" cx=\"316.197\" cy=\"-594\" rx=\"40.0939\" ry=\"18\"/>\r\n",
       "<text text-anchor=\"middle\" x=\"316.197\" y=\"-590.3\" font-family=\"Times New Roman,serif\" font-size=\"14.00\">tearRate</text>\r\n",
       "</g>\r\n",
       "<!-- tearRatenormal -->\r\n",
       "<g id=\"node2\" class=\"node\"><title>tearRatenormal</title>\r\n",
       "<ellipse fill=\"none\" stroke=\"black\" cx=\"266.197\" cy=\"-522\" rx=\"35.9954\" ry=\"18\"/>\r\n",
       "<text text-anchor=\"middle\" x=\"266.197\" y=\"-518.3\" font-family=\"Times New Roman,serif\" font-size=\"14.00\">normal</text>\r\n",
       "</g>\r\n",
       "<!-- tearRate&#45;&gt;tearRatenormal -->\r\n",
       "<g id=\"edge1\" class=\"edge\"><title>tearRate&#45;&gt;tearRatenormal</title>\r\n",
       "<path fill=\"none\" stroke=\"black\" d=\"M304.348,-576.411C298.246,-567.868 290.682,-557.278 283.902,-547.787\"/>\r\n",
       "<polygon fill=\"black\" stroke=\"black\" points=\"286.622,-545.573 277.961,-539.47 280.926,-549.642 286.622,-545.573\"/>\r\n",
       "</g>\r\n",
       "<!-- tearRatereduced -->\r\n",
       "<g id=\"node28\" class=\"node\"><title>tearRatereduced</title>\r\n",
       "<ellipse fill=\"none\" stroke=\"black\" cx=\"367.197\" cy=\"-522\" rx=\"40.0939\" ry=\"18\"/>\r\n",
       "<text text-anchor=\"middle\" x=\"367.197\" y=\"-518.3\" font-family=\"Times New Roman,serif\" font-size=\"14.00\">reduced</text>\r\n",
       "</g>\r\n",
       "<!-- tearRate&#45;&gt;tearRatereduced -->\r\n",
       "<g id=\"edge27\" class=\"edge\"><title>tearRate&#45;&gt;tearRatereduced</title>\r\n",
       "<path fill=\"none\" stroke=\"black\" d=\"M328.026,-576.765C334.307,-568.143 342.16,-557.365 349.182,-547.727\"/>\r\n",
       "<polygon fill=\"black\" stroke=\"black\" points=\"352.019,-549.777 355.079,-539.633 346.361,-545.655 352.019,-549.777\"/>\r\n",
       "</g>\r\n",
       "<!-- tearRatenormalastigmatic -->\r\n",
       "<g id=\"node3\" class=\"node\"><title>tearRatenormalastigmatic</title>\r\n",
       "<ellipse fill=\"none\" stroke=\"black\" cx=\"262.197\" cy=\"-450\" rx=\"46.5926\" ry=\"18\"/>\r\n",
       "<text text-anchor=\"middle\" x=\"262.197\" y=\"-446.3\" font-family=\"Times New Roman,serif\" font-size=\"14.00\">astigmatic</text>\r\n",
       "</g>\r\n",
       "<!-- tearRatenormal&#45;&gt;tearRatenormalastigmatic -->\r\n",
       "<g id=\"edge2\" class=\"edge\"><title>tearRatenormal&#45;&gt;tearRatenormalastigmatic</title>\r\n",
       "<path fill=\"none\" stroke=\"black\" d=\"M265.208,-503.697C264.768,-495.983 264.238,-486.712 263.747,-478.112\"/>\r\n",
       "<polygon fill=\"black\" stroke=\"black\" points=\"267.24,-477.888 263.175,-468.104 260.251,-478.288 267.24,-477.888\"/>\r\n",
       "</g>\r\n",
       "<!-- tearRatenormalastigmaticno -->\r\n",
       "<g id=\"node4\" class=\"node\"><title>tearRatenormalastigmaticno</title>\r\n",
       "<ellipse fill=\"none\" stroke=\"black\" cx=\"226.197\" cy=\"-378\" rx=\"27\" ry=\"18\"/>\r\n",
       "<text text-anchor=\"middle\" x=\"226.197\" y=\"-374.3\" font-family=\"Times New Roman,serif\" font-size=\"14.00\">no</text>\r\n",
       "</g>\r\n",
       "<!-- tearRatenormalastigmatic&#45;&gt;tearRatenormalastigmaticno -->\r\n",
       "<g id=\"edge3\" class=\"edge\"><title>tearRatenormalastigmatic&#45;&gt;tearRatenormalastigmaticno</title>\r\n",
       "<path fill=\"none\" stroke=\"black\" d=\"M253.483,-432.055C249.22,-423.767 244.001,-413.618 239.272,-404.424\"/>\r\n",
       "<polygon fill=\"black\" stroke=\"black\" points=\"242.27,-402.599 234.584,-395.307 236.045,-405.801 242.27,-402.599\"/>\r\n",
       "</g>\r\n",
       "<!-- tearRatenormalastigmaticyes -->\r\n",
       "<g id=\"node16\" class=\"node\"><title>tearRatenormalastigmaticyes</title>\r\n",
       "<ellipse fill=\"none\" stroke=\"black\" cx=\"342.197\" cy=\"-378\" rx=\"27\" ry=\"18\"/>\r\n",
       "<text text-anchor=\"middle\" x=\"342.197\" y=\"-374.3\" font-family=\"Times New Roman,serif\" font-size=\"14.00\">yes</text>\r\n",
       "</g>\r\n",
       "<!-- tearRatenormalastigmatic&#45;&gt;tearRatenormalastigmaticyes -->\r\n",
       "<g id=\"edge15\" class=\"edge\"><title>tearRatenormalastigmatic&#45;&gt;tearRatenormalastigmaticyes</title>\r\n",
       "<path fill=\"none\" stroke=\"black\" d=\"M280.35,-433.116C291.771,-423.123 306.619,-410.131 318.904,-399.381\"/>\r\n",
       "<polygon fill=\"black\" stroke=\"black\" points=\"321.324,-401.915 326.545,-392.695 316.715,-396.646 321.324,-401.915\"/>\r\n",
       "</g>\r\n",
       "<!-- tearRatenormalastigmaticnoage -->\r\n",
       "<g id=\"node5\" class=\"node\"><title>tearRatenormalastigmaticnoage</title>\r\n",
       "<ellipse fill=\"none\" stroke=\"black\" cx=\"204.197\" cy=\"-306\" rx=\"27\" ry=\"18\"/>\r\n",
       "<text text-anchor=\"middle\" x=\"204.197\" y=\"-302.3\" font-family=\"Times New Roman,serif\" font-size=\"14.00\">age</text>\r\n",
       "</g>\r\n",
       "<!-- tearRatenormalastigmaticno&#45;&gt;tearRatenormalastigmaticnoage -->\r\n",
       "<g id=\"edge4\" class=\"edge\"><title>tearRatenormalastigmaticno&#45;&gt;tearRatenormalastigmaticnoage</title>\r\n",
       "<path fill=\"none\" stroke=\"black\" d=\"M220.872,-360.055C218.359,-352.059 215.301,-342.331 212.494,-333.4\"/>\r\n",
       "<polygon fill=\"black\" stroke=\"black\" points=\"215.811,-332.28 209.474,-323.789 209.133,-334.378 215.811,-332.28\"/>\r\n",
       "</g>\r\n",
       "<!-- tearRatenormalastigmaticnoagepresbyopic -->\r\n",
       "<g id=\"node6\" class=\"node\"><title>tearRatenormalastigmaticnoagepresbyopic</title>\r\n",
       "<ellipse fill=\"none\" stroke=\"black\" cx=\"96.1972\" cy=\"-234\" rx=\"51.9908\" ry=\"18\"/>\r\n",
       "<text text-anchor=\"middle\" x=\"96.1972\" y=\"-230.3\" font-family=\"Times New Roman,serif\" font-size=\"14.00\">presbyopic</text>\r\n",
       "</g>\r\n",
       "<!-- tearRatenormalastigmaticnoage&#45;&gt;tearRatenormalastigmaticnoagepresbyopic -->\r\n",
       "<g id=\"edge5\" class=\"edge\"><title>tearRatenormalastigmaticnoage&#45;&gt;tearRatenormalastigmaticnoagepresbyopic</title>\r\n",
       "<path fill=\"none\" stroke=\"black\" d=\"M185.385,-292.807C169.629,-282.595 146.794,-267.794 128.174,-255.726\"/>\r\n",
       "<polygon fill=\"black\" stroke=\"black\" points=\"129.985,-252.729 119.69,-250.227 126.178,-258.603 129.985,-252.729\"/>\r\n",
       "</g>\r\n",
       "<!-- tearRatenormalastigmaticnoagepre -->\r\n",
       "<g id=\"node12\" class=\"node\"><title>tearRatenormalastigmaticnoagepre</title>\r\n",
       "<ellipse fill=\"none\" stroke=\"black\" cx=\"193.197\" cy=\"-234\" rx=\"27\" ry=\"18\"/>\r\n",
       "<text text-anchor=\"middle\" x=\"193.197\" y=\"-230.3\" font-family=\"Times New Roman,serif\" font-size=\"14.00\">pre</text>\r\n",
       "</g>\r\n",
       "<!-- tearRatenormalastigmaticnoage&#45;&gt;tearRatenormalastigmaticnoagepre -->\r\n",
       "<g id=\"edge11\" class=\"edge\"><title>tearRatenormalastigmaticnoage&#45;&gt;tearRatenormalastigmaticnoagepre</title>\r\n",
       "<path fill=\"none\" stroke=\"black\" d=\"M201.534,-288.055C200.323,-280.346 198.859,-271.027 197.497,-262.364\"/>\r\n",
       "<polygon fill=\"black\" stroke=\"black\" points=\"200.922,-261.611 195.912,-252.275 194.007,-262.697 200.922,-261.611\"/>\r\n",
       "</g>\r\n",
       "<!-- tearRatenormalastigmaticnoageyoung -->\r\n",
       "<g id=\"node14\" class=\"node\"><title>tearRatenormalastigmaticnoageyoung</title>\r\n",
       "<ellipse fill=\"none\" stroke=\"black\" cx=\"271.197\" cy=\"-234\" rx=\"33.2948\" ry=\"18\"/>\r\n",
       "<text text-anchor=\"middle\" x=\"271.197\" y=\"-230.3\" font-family=\"Times New Roman,serif\" font-size=\"14.00\">young</text>\r\n",
       "</g>\r\n",
       "<!-- tearRatenormalastigmaticnoage&#45;&gt;tearRatenormalastigmaticnoageyoung -->\r\n",
       "<g id=\"edge13\" class=\"edge\"><title>tearRatenormalastigmaticnoage&#45;&gt;tearRatenormalastigmaticnoageyoung</title>\r\n",
       "<path fill=\"none\" stroke=\"black\" d=\"M218.08,-290.496C227.086,-281.086 239.013,-268.625 249.283,-257.895\"/>\r\n",
       "<polygon fill=\"black\" stroke=\"black\" points=\"252.017,-260.101 256.403,-250.457 246.96,-255.261 252.017,-260.101\"/>\r\n",
       "</g>\r\n",
       "<!-- tearRatenormalastigmaticnoagepresbyopicprescript -->\r\n",
       "<g id=\"node7\" class=\"node\"><title>tearRatenormalastigmaticnoagepresbyopicprescript</title>\r\n",
       "<ellipse fill=\"none\" stroke=\"black\" cx=\"96.1972\" cy=\"-162\" rx=\"42.7926\" ry=\"18\"/>\r\n",
       "<text text-anchor=\"middle\" x=\"96.1972\" y=\"-158.3\" font-family=\"Times New Roman,serif\" font-size=\"14.00\">prescript</text>\r\n",
       "</g>\r\n",
       "<!-- tearRatenormalastigmaticnoagepresbyopic&#45;&gt;tearRatenormalastigmaticnoagepresbyopicprescript -->\r\n",
       "<g id=\"edge6\" class=\"edge\"><title>tearRatenormalastigmaticnoagepresbyopic&#45;&gt;tearRatenormalastigmaticnoagepresbyopicprescript</title>\r\n",
       "<path fill=\"none\" stroke=\"black\" d=\"M96.1972,-215.697C96.1972,-207.983 96.1972,-198.712 96.1972,-190.112\"/>\r\n",
       "<polygon fill=\"black\" stroke=\"black\" points=\"99.6973,-190.104 96.1972,-180.104 92.6973,-190.104 99.6973,-190.104\"/>\r\n",
       "</g>\r\n",
       "<!-- tearRatenormalastigmaticnoagepresbyopicprescripthyper -->\r\n",
       "<g id=\"node8\" class=\"node\"><title>tearRatenormalastigmaticnoagepresbyopicprescripthyper</title>\r\n",
       "<ellipse fill=\"none\" stroke=\"black\" cx=\"31.1972\" cy=\"-90\" rx=\"31.3957\" ry=\"18\"/>\r\n",
       "<text text-anchor=\"middle\" x=\"31.1972\" y=\"-86.3\" font-family=\"Times New Roman,serif\" font-size=\"14.00\">hyper</text>\r\n",
       "</g>\r\n",
       "<!-- tearRatenormalastigmaticnoagepresbyopicprescript&#45;&gt;tearRatenormalastigmaticnoagepresbyopicprescripthyper -->\r\n",
       "<g id=\"edge7\" class=\"edge\"><title>tearRatenormalastigmaticnoagepresbyopicprescript&#45;&gt;tearRatenormalastigmaticnoagepresbyopicprescripthyper</title>\r\n",
       "<path fill=\"none\" stroke=\"black\" d=\"M81.1215,-144.765C72.5146,-135.496 61.5927,-123.734 52.1607,-113.576\"/>\r\n",
       "<polygon fill=\"black\" stroke=\"black\" points=\"54.6706,-111.135 45.3013,-106.189 49.541,-115.899 54.6706,-111.135\"/>\r\n",
       "</g>\r\n",
       "<!-- tearRatenormalastigmaticnoagepresbyopicprescriptmyope -->\r\n",
       "<g id=\"node10\" class=\"node\"><title>tearRatenormalastigmaticnoagepresbyopicprescriptmyope</title>\r\n",
       "<ellipse fill=\"none\" stroke=\"black\" cx=\"118.197\" cy=\"-90\" rx=\"35.9954\" ry=\"18\"/>\r\n",
       "<text text-anchor=\"middle\" x=\"118.197\" y=\"-86.3\" font-family=\"Times New Roman,serif\" font-size=\"14.00\">myope</text>\r\n",
       "</g>\r\n",
       "<!-- tearRatenormalastigmaticnoagepresbyopicprescript&#45;&gt;tearRatenormalastigmaticnoagepresbyopicprescriptmyope -->\r\n",
       "<g id=\"edge9\" class=\"edge\"><title>tearRatenormalastigmaticnoagepresbyopicprescript&#45;&gt;tearRatenormalastigmaticnoagepresbyopicprescriptmyope</title>\r\n",
       "<path fill=\"none\" stroke=\"black\" d=\"M101.523,-144.055C103.972,-136.261 106.939,-126.822 109.687,-118.079\"/>\r\n",
       "<polygon fill=\"black\" stroke=\"black\" points=\"113.108,-118.865 112.768,-108.275 106.431,-116.766 113.108,-118.865\"/>\r\n",
       "</g>\r\n",
       "<!-- tearRatenormalastigmaticnoagepresbyopicprescripthypersoft -->\r\n",
       "<g id=\"node9\" class=\"node\"><title>tearRatenormalastigmaticnoagepresbyopicprescripthypersoft</title>\r\n",
       "<ellipse fill=\"none\" stroke=\"black\" cx=\"30.1972\" cy=\"-18\" rx=\"27\" ry=\"18\"/>\r\n",
       "<text text-anchor=\"middle\" x=\"30.1972\" y=\"-14.3\" font-family=\"Times New Roman,serif\" font-size=\"14.00\">soft</text>\r\n",
       "</g>\r\n",
       "<!-- tearRatenormalastigmaticnoagepresbyopicprescripthyper&#45;&gt;tearRatenormalastigmaticnoagepresbyopicprescripthypersoft -->\r\n",
       "<g id=\"edge8\" class=\"edge\"><title>tearRatenormalastigmaticnoagepresbyopicprescripthyper&#45;&gt;tearRatenormalastigmaticnoagepresbyopicprescripthypersoft</title>\r\n",
       "<path fill=\"none\" stroke=\"black\" d=\"M30.95,-71.6966C30.8398,-63.9827 30.7074,-54.7125 30.5846,-46.1124\"/>\r\n",
       "<polygon fill=\"black\" stroke=\"black\" points=\"34.0842,-46.0533 30.4416,-36.1043 27.0849,-46.1533 34.0842,-46.0533\"/>\r\n",
       "</g>\r\n",
       "<!-- tearRatenormalastigmaticnoagepresbyopicprescriptmyopeno lenses -->\r\n",
       "<g id=\"node11\" class=\"node\"><title>tearRatenormalastigmaticnoagepresbyopicprescriptmyopeno lenses</title>\r\n",
       "<ellipse fill=\"none\" stroke=\"black\" cx=\"119.197\" cy=\"-18\" rx=\"44.393\" ry=\"18\"/>\r\n",
       "<text text-anchor=\"middle\" x=\"119.197\" y=\"-14.3\" font-family=\"Times New Roman,serif\" font-size=\"14.00\">no lenses</text>\r\n",
       "</g>\r\n",
       "<!-- tearRatenormalastigmaticnoagepresbyopicprescriptmyope&#45;&gt;tearRatenormalastigmaticnoagepresbyopicprescriptmyopeno lenses -->\r\n",
       "<g id=\"edge10\" class=\"edge\"><title>tearRatenormalastigmaticnoagepresbyopicprescriptmyope&#45;&gt;tearRatenormalastigmaticnoagepresbyopicprescriptmyopeno lenses</title>\r\n",
       "<path fill=\"none\" stroke=\"black\" d=\"M118.444,-71.6966C118.555,-63.9827 118.687,-54.7125 118.81,-46.1124\"/>\r\n",
       "<polygon fill=\"black\" stroke=\"black\" points=\"122.31,-46.1533 118.953,-36.1043 115.31,-46.0533 122.31,-46.1533\"/>\r\n",
       "</g>\r\n",
       "<!-- tearRatenormalastigmaticnoagepresoft -->\r\n",
       "<g id=\"node13\" class=\"node\"><title>tearRatenormalastigmaticnoagepresoft</title>\r\n",
       "<ellipse fill=\"none\" stroke=\"black\" cx=\"193.197\" cy=\"-162\" rx=\"27\" ry=\"18\"/>\r\n",
       "<text text-anchor=\"middle\" x=\"193.197\" y=\"-158.3\" font-family=\"Times New Roman,serif\" font-size=\"14.00\">soft</text>\r\n",
       "</g>\r\n",
       "<!-- tearRatenormalastigmaticnoagepre&#45;&gt;tearRatenormalastigmaticnoagepresoft -->\r\n",
       "<g id=\"edge12\" class=\"edge\"><title>tearRatenormalastigmaticnoagepre&#45;&gt;tearRatenormalastigmaticnoagepresoft</title>\r\n",
       "<path fill=\"none\" stroke=\"black\" d=\"M193.197,-215.697C193.197,-207.983 193.197,-198.712 193.197,-190.112\"/>\r\n",
       "<polygon fill=\"black\" stroke=\"black\" points=\"196.697,-190.104 193.197,-180.104 189.697,-190.104 196.697,-190.104\"/>\r\n",
       "</g>\r\n",
       "<!-- tearRatenormalastigmaticnoageyoungsoft -->\r\n",
       "<g id=\"node15\" class=\"node\"><title>tearRatenormalastigmaticnoageyoungsoft</title>\r\n",
       "<ellipse fill=\"none\" stroke=\"black\" cx=\"271.197\" cy=\"-162\" rx=\"27\" ry=\"18\"/>\r\n",
       "<text text-anchor=\"middle\" x=\"271.197\" y=\"-158.3\" font-family=\"Times New Roman,serif\" font-size=\"14.00\">soft</text>\r\n",
       "</g>\r\n",
       "<!-- tearRatenormalastigmaticnoageyoung&#45;&gt;tearRatenormalastigmaticnoageyoungsoft -->\r\n",
       "<g id=\"edge14\" class=\"edge\"><title>tearRatenormalastigmaticnoageyoung&#45;&gt;tearRatenormalastigmaticnoageyoungsoft</title>\r\n",
       "<path fill=\"none\" stroke=\"black\" d=\"M271.197,-215.697C271.197,-207.983 271.197,-198.712 271.197,-190.112\"/>\r\n",
       "<polygon fill=\"black\" stroke=\"black\" points=\"274.697,-190.104 271.197,-180.104 267.697,-190.104 274.697,-190.104\"/>\r\n",
       "</g>\r\n",
       "<!-- tearRatenormalastigmaticyesprescript -->\r\n",
       "<g id=\"node17\" class=\"node\"><title>tearRatenormalastigmaticyesprescript</title>\r\n",
       "<ellipse fill=\"none\" stroke=\"black\" cx=\"353.197\" cy=\"-306\" rx=\"42.7926\" ry=\"18\"/>\r\n",
       "<text text-anchor=\"middle\" x=\"353.197\" y=\"-302.3\" font-family=\"Times New Roman,serif\" font-size=\"14.00\">prescript</text>\r\n",
       "</g>\r\n",
       "<!-- tearRatenormalastigmaticyes&#45;&gt;tearRatenormalastigmaticyesprescript -->\r\n",
       "<g id=\"edge16\" class=\"edge\"><title>tearRatenormalastigmaticyes&#45;&gt;tearRatenormalastigmaticyesprescript</title>\r\n",
       "<path fill=\"none\" stroke=\"black\" d=\"M344.86,-360.055C346.071,-352.346 347.536,-343.027 348.897,-334.364\"/>\r\n",
       "<polygon fill=\"black\" stroke=\"black\" points=\"352.388,-334.697 350.483,-324.275 345.473,-333.611 352.388,-334.697\"/>\r\n",
       "</g>\r\n",
       "<!-- tearRatenormalastigmaticyesprescripthyper -->\r\n",
       "<g id=\"node18\" class=\"node\"><title>tearRatenormalastigmaticyesprescripthyper</title>\r\n",
       "<ellipse fill=\"none\" stroke=\"black\" cx=\"353.197\" cy=\"-234\" rx=\"31.3957\" ry=\"18\"/>\r\n",
       "<text text-anchor=\"middle\" x=\"353.197\" y=\"-230.3\" font-family=\"Times New Roman,serif\" font-size=\"14.00\">hyper</text>\r\n",
       "</g>\r\n",
       "<!-- tearRatenormalastigmaticyesprescript&#45;&gt;tearRatenormalastigmaticyesprescripthyper -->\r\n",
       "<g id=\"edge17\" class=\"edge\"><title>tearRatenormalastigmaticyesprescript&#45;&gt;tearRatenormalastigmaticyesprescripthyper</title>\r\n",
       "<path fill=\"none\" stroke=\"black\" d=\"M353.197,-287.697C353.197,-279.983 353.197,-270.712 353.197,-262.112\"/>\r\n",
       "<polygon fill=\"black\" stroke=\"black\" points=\"356.697,-262.104 353.197,-252.104 349.697,-262.104 356.697,-262.104\"/>\r\n",
       "</g>\r\n",
       "<!-- tearRatenormalastigmaticyesprescriptmyope -->\r\n",
       "<g id=\"node26\" class=\"node\"><title>tearRatenormalastigmaticyesprescriptmyope</title>\r\n",
       "<ellipse fill=\"none\" stroke=\"black\" cx=\"438.197\" cy=\"-234\" rx=\"35.9954\" ry=\"18\"/>\r\n",
       "<text text-anchor=\"middle\" x=\"438.197\" y=\"-230.3\" font-family=\"Times New Roman,serif\" font-size=\"14.00\">myope</text>\r\n",
       "</g>\r\n",
       "<!-- tearRatenormalastigmaticyesprescript&#45;&gt;tearRatenormalastigmaticyesprescriptmyope -->\r\n",
       "<g id=\"edge25\" class=\"edge\"><title>tearRatenormalastigmaticyesprescript&#45;&gt;tearRatenormalastigmaticyesprescriptmyope</title>\r\n",
       "<path fill=\"none\" stroke=\"black\" d=\"M372.061,-289.465C383.969,-279.658 399.507,-266.862 412.53,-256.138\"/>\r\n",
       "<polygon fill=\"black\" stroke=\"black\" points=\"414.764,-258.832 420.259,-249.773 410.314,-253.428 414.764,-258.832\"/>\r\n",
       "</g>\r\n",
       "<!-- tearRatenormalastigmaticyesprescripthyperage -->\r\n",
       "<g id=\"node19\" class=\"node\"><title>tearRatenormalastigmaticyesprescripthyperage</title>\r\n",
       "<ellipse fill=\"none\" stroke=\"black\" cx=\"353.197\" cy=\"-162\" rx=\"27\" ry=\"18\"/>\r\n",
       "<text text-anchor=\"middle\" x=\"353.197\" y=\"-158.3\" font-family=\"Times New Roman,serif\" font-size=\"14.00\">age</text>\r\n",
       "</g>\r\n",
       "<!-- tearRatenormalastigmaticyesprescripthyper&#45;&gt;tearRatenormalastigmaticyesprescripthyperage -->\r\n",
       "<g id=\"edge18\" class=\"edge\"><title>tearRatenormalastigmaticyesprescripthyper&#45;&gt;tearRatenormalastigmaticyesprescripthyperage</title>\r\n",
       "<path fill=\"none\" stroke=\"black\" d=\"M353.197,-215.697C353.197,-207.983 353.197,-198.712 353.197,-190.112\"/>\r\n",
       "<polygon fill=\"black\" stroke=\"black\" points=\"356.697,-190.104 353.197,-180.104 349.697,-190.104 356.697,-190.104\"/>\r\n",
       "</g>\r\n",
       "<!-- tearRatenormalastigmaticyesprescripthyperagepresbyopic -->\r\n",
       "<g id=\"node20\" class=\"node\"><title>tearRatenormalastigmaticyesprescripthyperagepresbyopic</title>\r\n",
       "<ellipse fill=\"none\" stroke=\"black\" cx=\"251.197\" cy=\"-90\" rx=\"51.9908\" ry=\"18\"/>\r\n",
       "<text text-anchor=\"middle\" x=\"251.197\" y=\"-86.3\" font-family=\"Times New Roman,serif\" font-size=\"14.00\">presbyopic</text>\r\n",
       "</g>\r\n",
       "<!-- tearRatenormalastigmaticyesprescripthyperage&#45;&gt;tearRatenormalastigmaticyesprescripthyperagepresbyopic -->\r\n",
       "<g id=\"edge19\" class=\"edge\"><title>tearRatenormalastigmaticyesprescripthyperage&#45;&gt;tearRatenormalastigmaticyesprescripthyperagepresbyopic</title>\r\n",
       "<path fill=\"none\" stroke=\"black\" d=\"M334.962,-148.485C320.323,-138.439 299.438,-124.106 282.185,-112.266\"/>\r\n",
       "<polygon fill=\"black\" stroke=\"black\" points=\"283.772,-109.11 273.546,-106.337 279.811,-114.882 283.772,-109.11\"/>\r\n",
       "</g>\r\n",
       "<!-- tearRatenormalastigmaticyesprescripthyperagepre -->\r\n",
       "<g id=\"node22\" class=\"node\"><title>tearRatenormalastigmaticyesprescripthyperagepre</title>\r\n",
       "<ellipse fill=\"none\" stroke=\"black\" cx=\"353.197\" cy=\"-90\" rx=\"27\" ry=\"18\"/>\r\n",
       "<text text-anchor=\"middle\" x=\"353.197\" y=\"-86.3\" font-family=\"Times New Roman,serif\" font-size=\"14.00\">pre</text>\r\n",
       "</g>\r\n",
       "<!-- tearRatenormalastigmaticyesprescripthyperage&#45;&gt;tearRatenormalastigmaticyesprescripthyperagepre -->\r\n",
       "<g id=\"edge21\" class=\"edge\"><title>tearRatenormalastigmaticyesprescripthyperage&#45;&gt;tearRatenormalastigmaticyesprescripthyperagepre</title>\r\n",
       "<path fill=\"none\" stroke=\"black\" d=\"M353.197,-143.697C353.197,-135.983 353.197,-126.712 353.197,-118.112\"/>\r\n",
       "<polygon fill=\"black\" stroke=\"black\" points=\"356.697,-118.104 353.197,-108.104 349.697,-118.104 356.697,-118.104\"/>\r\n",
       "</g>\r\n",
       "<!-- tearRatenormalastigmaticyesprescripthyperageyoung -->\r\n",
       "<g id=\"node24\" class=\"node\"><title>tearRatenormalastigmaticyesprescripthyperageyoung</title>\r\n",
       "<ellipse fill=\"none\" stroke=\"black\" cx=\"436.197\" cy=\"-90\" rx=\"33.2948\" ry=\"18\"/>\r\n",
       "<text text-anchor=\"middle\" x=\"436.197\" y=\"-86.3\" font-family=\"Times New Roman,serif\" font-size=\"14.00\">young</text>\r\n",
       "</g>\r\n",
       "<!-- tearRatenormalastigmaticyesprescripthyperage&#45;&gt;tearRatenormalastigmaticyesprescripthyperageyoung -->\r\n",
       "<g id=\"edge23\" class=\"edge\"><title>tearRatenormalastigmaticyesprescripthyperage&#45;&gt;tearRatenormalastigmaticyesprescripthyperageyoung</title>\r\n",
       "<path fill=\"none\" stroke=\"black\" d=\"M369.595,-147.17C381.411,-137.206 397.574,-123.574 411.019,-112.235\"/>\r\n",
       "<polygon fill=\"black\" stroke=\"black\" points=\"413.588,-114.647 418.976,-105.524 409.075,-109.295 413.588,-114.647\"/>\r\n",
       "</g>\r\n",
       "<!-- tearRatenormalastigmaticyesprescripthyperagepresbyopicno lenses -->\r\n",
       "<g id=\"node21\" class=\"node\"><title>tearRatenormalastigmaticyesprescripthyperagepresbyopicno lenses</title>\r\n",
       "<ellipse fill=\"none\" stroke=\"black\" cx=\"247.197\" cy=\"-18\" rx=\"44.393\" ry=\"18\"/>\r\n",
       "<text text-anchor=\"middle\" x=\"247.197\" y=\"-14.3\" font-family=\"Times New Roman,serif\" font-size=\"14.00\">no lenses</text>\r\n",
       "</g>\r\n",
       "<!-- tearRatenormalastigmaticyesprescripthyperagepresbyopic&#45;&gt;tearRatenormalastigmaticyesprescripthyperagepresbyopicno lenses -->\r\n",
       "<g id=\"edge20\" class=\"edge\"><title>tearRatenormalastigmaticyesprescripthyperagepresbyopic&#45;&gt;tearRatenormalastigmaticyesprescripthyperagepresbyopicno lenses</title>\r\n",
       "<path fill=\"none\" stroke=\"black\" d=\"M250.208,-71.6966C249.768,-63.9827 249.238,-54.7125 248.747,-46.1124\"/>\r\n",
       "<polygon fill=\"black\" stroke=\"black\" points=\"252.24,-45.8883 248.175,-36.1043 245.251,-46.2878 252.24,-45.8883\"/>\r\n",
       "</g>\r\n",
       "<!-- tearRatenormalastigmaticyesprescripthyperagepreno lenses -->\r\n",
       "<g id=\"node23\" class=\"node\"><title>tearRatenormalastigmaticyesprescripthyperagepreno lenses</title>\r\n",
       "<ellipse fill=\"none\" stroke=\"black\" cx=\"353.197\" cy=\"-18\" rx=\"44.393\" ry=\"18\"/>\r\n",
       "<text text-anchor=\"middle\" x=\"353.197\" y=\"-14.3\" font-family=\"Times New Roman,serif\" font-size=\"14.00\">no lenses</text>\r\n",
       "</g>\r\n",
       "<!-- tearRatenormalastigmaticyesprescripthyperagepre&#45;&gt;tearRatenormalastigmaticyesprescripthyperagepreno lenses -->\r\n",
       "<g id=\"edge22\" class=\"edge\"><title>tearRatenormalastigmaticyesprescripthyperagepre&#45;&gt;tearRatenormalastigmaticyesprescripthyperagepreno lenses</title>\r\n",
       "<path fill=\"none\" stroke=\"black\" d=\"M353.197,-71.6966C353.197,-63.9827 353.197,-54.7125 353.197,-46.1124\"/>\r\n",
       "<polygon fill=\"black\" stroke=\"black\" points=\"356.697,-46.1043 353.197,-36.1043 349.697,-46.1044 356.697,-46.1043\"/>\r\n",
       "</g>\r\n",
       "<!-- tearRatenormalastigmaticyesprescripthyperageyounghard -->\r\n",
       "<g id=\"node25\" class=\"node\"><title>tearRatenormalastigmaticyesprescripthyperageyounghard</title>\r\n",
       "<ellipse fill=\"none\" stroke=\"black\" cx=\"442.197\" cy=\"-18\" rx=\"27\" ry=\"18\"/>\r\n",
       "<text text-anchor=\"middle\" x=\"442.197\" y=\"-14.3\" font-family=\"Times New Roman,serif\" font-size=\"14.00\">hard</text>\r\n",
       "</g>\r\n",
       "<!-- tearRatenormalastigmaticyesprescripthyperageyoung&#45;&gt;tearRatenormalastigmaticyesprescripthyperageyounghard -->\r\n",
       "<g id=\"edge24\" class=\"edge\"><title>tearRatenormalastigmaticyesprescripthyperageyoung&#45;&gt;tearRatenormalastigmaticyesprescripthyperageyounghard</title>\r\n",
       "<path fill=\"none\" stroke=\"black\" d=\"M437.68,-71.6966C438.342,-63.9827 439.136,-54.7125 439.873,-46.1124\"/>\r\n",
       "<polygon fill=\"black\" stroke=\"black\" points=\"443.364,-46.3667 440.731,-36.1043 436.39,-45.7689 443.364,-46.3667\"/>\r\n",
       "</g>\r\n",
       "<!-- tearRatenormalastigmaticyesprescriptmyopehard -->\r\n",
       "<g id=\"node27\" class=\"node\"><title>tearRatenormalastigmaticyesprescriptmyopehard</title>\r\n",
       "<ellipse fill=\"none\" stroke=\"black\" cx=\"438.197\" cy=\"-162\" rx=\"27\" ry=\"18\"/>\r\n",
       "<text text-anchor=\"middle\" x=\"438.197\" y=\"-158.3\" font-family=\"Times New Roman,serif\" font-size=\"14.00\">hard</text>\r\n",
       "</g>\r\n",
       "<!-- tearRatenormalastigmaticyesprescriptmyope&#45;&gt;tearRatenormalastigmaticyesprescriptmyopehard -->\r\n",
       "<g id=\"edge26\" class=\"edge\"><title>tearRatenormalastigmaticyesprescriptmyope&#45;&gt;tearRatenormalastigmaticyesprescriptmyopehard</title>\r\n",
       "<path fill=\"none\" stroke=\"black\" d=\"M438.197,-215.697C438.197,-207.983 438.197,-198.712 438.197,-190.112\"/>\r\n",
       "<polygon fill=\"black\" stroke=\"black\" points=\"441.697,-190.104 438.197,-180.104 434.697,-190.104 441.697,-190.104\"/>\r\n",
       "</g>\r\n",
       "<!-- tearRatereducedno lenses -->\r\n",
       "<g id=\"node29\" class=\"node\"><title>tearRatereducedno lenses</title>\r\n",
       "<ellipse fill=\"none\" stroke=\"black\" cx=\"371.197\" cy=\"-450\" rx=\"44.393\" ry=\"18\"/>\r\n",
       "<text text-anchor=\"middle\" x=\"371.197\" y=\"-446.3\" font-family=\"Times New Roman,serif\" font-size=\"14.00\">no lenses</text>\r\n",
       "</g>\r\n",
       "<!-- tearRatereduced&#45;&gt;tearRatereducedno lenses -->\r\n",
       "<g id=\"edge28\" class=\"edge\"><title>tearRatereduced&#45;&gt;tearRatereducedno lenses</title>\r\n",
       "<path fill=\"none\" stroke=\"black\" d=\"M368.186,-503.697C368.627,-495.983 369.157,-486.712 369.648,-478.112\"/>\r\n",
       "<polygon fill=\"black\" stroke=\"black\" points=\"373.144,-478.288 370.22,-468.104 366.155,-477.888 373.144,-478.288\"/>\r\n",
       "</g>\r\n",
       "</g>\r\n",
       "</svg>\r\n"
      ],
      "text/plain": [
       "<graphviz.dot.Digraph at 0x1a32acf4550>"
      ]
     },
     "execution_count": 127,
     "metadata": {},
     "output_type": "execute_result"
    }
   ],
   "source": [
    "# plot\n",
    "dot = Digraph()\n",
    "plotTree(lensesTree)\n",
    "dot"
   ]
  },
  {
   "cell_type": "markdown",
   "metadata": {},
   "source": [
    "有的时候决策树会出现过度匹配的情况，这个时候就需要剪枝，后面还会学习另一种构造算法CART。"
   ]
  },
  {
   "cell_type": "markdown",
   "metadata": {},
   "source": [
    "> ID3算法无法直接处理数值型数据，k-近邻算法和决策树都是明确的分类，下面会接触一种不能完全确定数据应该分为某个类，只是给出具体的概率。"
   ]
  },
  {
   "cell_type": "code",
   "execution_count": null,
   "metadata": {
    "collapsed": true
   },
   "outputs": [],
   "source": []
  }
 ],
 "metadata": {
  "kernelspec": {
   "display_name": "Python 3",
   "language": "python",
   "name": "python3"
  },
  "language_info": {
   "codemirror_mode": {
    "name": "ipython",
    "version": 3
   },
   "file_extension": ".py",
   "mimetype": "text/x-python",
   "name": "python",
   "nbconvert_exporter": "python",
   "pygments_lexer": "ipython3",
   "version": "3.6.3"
  }
 },
 "nbformat": 4,
 "nbformat_minor": 2
}
