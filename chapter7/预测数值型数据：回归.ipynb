{
 "cells": [
  {
   "cell_type": "markdown",
   "metadata": {},
   "source": [
    "## 1、用线性回归找到最佳拟合直线"
   ]
  },
  {
   "cell_type": "markdown",
   "metadata": {},
   "source": [
    "> 优点：结果易于理解，计算上不复杂\n",
    "\n",
    "> 缺点：对非线性的数据拟合不好\n",
    "\n",
    "> 适用数据类型：数值型和标称型数据"
   ]
  },
  {
   "cell_type": "markdown",
   "metadata": {},
   "source": [
    "平常说的回归，一般是指线性回归（linear regression）,从一堆数据中计算回归方程，需要一些评价指标。\n",
    "\n",
    "误差采用平方误差：$\\sum ^{m}_{i=1}\\left( y_{i}-x^{T}_{i}w\\right) ^{2}$\n",
    "\n",
    "可以计算得到：$\\widehat {w}=\\left( x^{T}x\\right) ^{-1}x^{T}y$\n",
    "\n",
    "这就是最小二乘法（ordinary least squares，OLS）"
   ]
  },
  {
   "cell_type": "code",
   "execution_count": 1,
   "metadata": {
    "collapsed": true
   },
   "outputs": [],
   "source": [
    "import matplotlib.pyplot as plt\n",
    "import numpy as np"
   ]
  },
  {
   "cell_type": "code",
   "execution_count": 2,
   "metadata": {
    "collapsed": true
   },
   "outputs": [],
   "source": [
    "def loadDataSet(fileName):\n",
    "    with open(fileName) as f:\n",
    "        dataMat = []\n",
    "        labelMat = []\n",
    "        for line in f.readlines():\n",
    "            lineArr = []\n",
    "            curLine = line.strip().split('\\t')\n",
    "            for i in range(len(curLine)-1):\n",
    "                lineArr.append(float(curLine[i]))\n",
    "            dataMat.append(lineArr)\n",
    "            labelMat.append(float(curLine[-1]))\n",
    "    return np.array(dataMat), np.array(labelMat)"
   ]
  },
  {
   "cell_type": "code",
   "execution_count": 59,
   "metadata": {
    "collapsed": true
   },
   "outputs": [],
   "source": [
    "def standRegress(xArr, yArr):\n",
    "    xMat = np.mat(xArr)\n",
    "    yMat = np.mat(yArr).T\n",
    "    xTx = xMat.T*xMat\n",
    "    if np.linalg.det(xTx) == 0.0:\n",
    "        print('This matrix is singular, cannot do inverse')\n",
    "        return\n",
    "    ws = xTx.I*xMat.T*yMat\n",
    "    return ws"
   ]
  },
  {
   "cell_type": "code",
   "execution_count": 7,
   "metadata": {},
   "outputs": [
    {
     "data": {
      "text/plain": [
       "matrix([[ 3.00774324],\n",
       "        [ 1.69532264]])"
      ]
     },
     "execution_count": 7,
     "metadata": {},
     "output_type": "execute_result"
    }
   ],
   "source": [
    "xArr, yArr = loadDataSet('ex0.txt')\n",
    "ws = standRegress(xArr, yArr)\n",
    "ws"
   ]
  },
  {
   "cell_type": "code",
   "execution_count": 22,
   "metadata": {
    "collapsed": true
   },
   "outputs": [],
   "source": [
    "# plot\n",
    "def plotRegression(xArr, yArr, ws):\n",
    "    xMat = np.mat(xArr)\n",
    "    yMat = np.mat(yArr)\n",
    "    figure, ax = plt.subplots(figsize=(10, 8))\n",
    "    ax.scatter(xMat[:, 1].flatten().A, yMat.flatten().A, c='b')\n",
    "    xCopy = xMat.copy()\n",
    "    yHat = xCopy*ws\n",
    "    ax.plot(xCopy[:, 1], yHat, c='r')\n",
    "    plt.show()"
   ]
  },
  {
   "cell_type": "code",
   "execution_count": 24,
   "metadata": {},
   "outputs": [
    {
     "data": {
      "image/png": "[encoded data removed]",
      "text/plain": [
       "<matplotlib.figure.Figure at 0x23af661b438>"
      ]
     },
     "metadata": {},
     "output_type": "display_data"
    }
   ],
   "source": [
    "plotRegression(xArr, yArr, ws)"
   ]
  },
  {
   "cell_type": "markdown",
   "metadata": {},
   "source": [
    "比较模型拟合的效果可以用相关系数来衡量"
   ]
  },
  {
   "cell_type": "code",
   "execution_count": 43,
   "metadata": {},
   "outputs": [
    {
     "data": {
      "text/plain": [
       "array([[ 1.        ,  0.98647356],\n",
       "       [ 0.98647356,  1.        ]])"
      ]
     },
     "execution_count": 43,
     "metadata": {},
     "output_type": "execute_result"
    }
   ],
   "source": [
    "xMat = np.mat(xArr)\n",
    "yMat = np.mat(yArr)\n",
    "yHat = xMat * ws\n",
    "np.corrcoef(yHat.T, yMat)"
   ]
  },
  {
   "cell_type": "markdown",
   "metadata": {},
   "source": [
    "## 2、局部加权线性回归"
   ]
  },
  {
   "cell_type": "markdown",
   "metadata": {},
   "source": [
    "线性回归的问题是有可能出现欠拟合现象，因为它求的是具有最小均方误差的无偏估计，因此有些方法允许在估计中引入一些偏差，从而降低预测的均方误差。\n",
    "\n",
    "其中一个方法就是局部加权线性回归（locally weighted linear regression， LWLR）\n",
    "\n",
    "公式如下：$\\widehat {w}=\\left( x^{T}Wx\\right) ^{-1}x^{T}Wy$\n",
    "\n",
    "LWLR使用“核”来对附近的点赋予更高的权重，常用高斯核：$w\\left( i,i\\right) =\\exp \\left( \\dfrac {\\left| x^{\\left( i\\right) }-x\\right| }{-2k^{2}}\\right)$"
   ]
  },
  {
   "cell_type": "code",
   "execution_count": 60,
   "metadata": {
    "collapsed": true
   },
   "outputs": [],
   "source": [
    "def lwlr(testPoint, xArr, yArr, k=1.0):\n",
    "    xMat = np.mat(xArr)\n",
    "    yMat = np.mat(yArr).T\n",
    "    m, n = xMat.shape\n",
    "    # 创建对角矩阵\n",
    "    weights = np.mat(np.eye(m))\n",
    "    for j in range(m):\n",
    "        diffMat = testPoint - xMat[j, :]\n",
    "        weights[j, j] = np.exp(diffMat*diffMat.T/(-2.0*k**2))\n",
    "    xTx = xMat.T * weights * xMat\n",
    "    if np.linalg.det(xTx) == 0.0:\n",
    "        print('This matrix is singular, cannot do inverse')\n",
    "        return\n",
    "    ws = xTx.I * xMat.T * weights * yMat\n",
    "    return testPoint * ws"
   ]
  },
  {
   "cell_type": "code",
   "execution_count": 61,
   "metadata": {
    "collapsed": true
   },
   "outputs": [],
   "source": [
    "def lwlrTest(testArr, xArr, yArr, k=1.0):\n",
    "    m, n = testArr.shape\n",
    "    yHat = np.zeros(m)\n",
    "    for i in range(m):\n",
    "        yHat[i] = lwlr(testArr[i], xArr, yArr, k)\n",
    "    return yHat"
   ]
  },
  {
   "cell_type": "code",
   "execution_count": 46,
   "metadata": {},
   "outputs": [
    {
     "data": {
      "text/plain": [
       "3.176513"
      ]
     },
     "execution_count": 46,
     "metadata": {},
     "output_type": "execute_result"
    }
   ],
   "source": [
    "xArr, yArr = loadDataSet('ex0.txt')\n",
    "yArr[0]"
   ]
  },
  {
   "cell_type": "code",
   "execution_count": 49,
   "metadata": {},
   "outputs": [
    {
     "data": {
      "text/plain": [
       "matrix([[ 3.12204471]])"
      ]
     },
     "execution_count": 49,
     "metadata": {},
     "output_type": "execute_result"
    }
   ],
   "source": [
    "lwlr(xArr[0], xArr, yArr, 1.0)"
   ]
  },
  {
   "cell_type": "code",
   "execution_count": 6,
   "metadata": {
    "collapsed": true
   },
   "outputs": [],
   "source": [
    "# plot\n",
    "def plotLwlr(xArr, yArr, k):\n",
    "    xArr = np.array(xArr)\n",
    "    yArr = np.array(yArr)\n",
    "    yHat = lwlrTest(xArr, xArr, yArr, k)\n",
    "    \n",
    "    # sort\n",
    "    sortInd = xArr[:, 1].argsort(0)\n",
    "    xSort = xArr[sortInd]\n",
    "    \n",
    "    fig, ax = plt.subplots(figsize=(10, 4))\n",
    "    ax.scatter(xArr[:, 1].flatten(), yArr, c='b')\n",
    "    ax.plot(xSort[:, 1], yHat[sortInd], c='r', label='k={}'.format(k))\n",
    "    plt.legend(loc='best')\n",
    "    plt.show()"
   ]
  },
  {
   "cell_type": "code",
   "execution_count": 88,
   "metadata": {},
   "outputs": [
    {
     "data": {
      "image/png": "[encoded data removed]",
      "text/plain": [
       "<matplotlib.figure.Figure at 0x23af63cc748>"
      ]
     },
     "metadata": {},
     "output_type": "display_data"
    },
    {
     "data": {
      "image/png": "[encoded data removed]",
      "text/plain": [
       "<matplotlib.figure.Figure at 0x23af6456e80>"
      ]
     },
     "metadata": {},
     "output_type": "display_data"
    },
    {
     "data": {
      "image/png": "[encoded data removed]",
      "text/plain": [
       "<matplotlib.figure.Figure at 0x23af4f3d710>"
      ]
     },
     "metadata": {},
     "output_type": "display_data"
    }
   ],
   "source": [
    "plotLwlr(xArr, yArr, 1.0)\n",
    "plotLwlr(xArr, yArr, 0.01)\n",
    "plotLwlr(xArr, yArr, 0.003)"
   ]
  },
  {
   "cell_type": "markdown",
   "metadata": {},
   "source": [
    "三种不同的平滑值，可以看出k=1.0时与最小二乘法差不多，有些欠拟合，k=0.01时拟合效果最好，而k=0.003时则考虑了太多噪声导致过拟合。"
   ]
  },
  {
   "cell_type": "markdown",
   "metadata": {},
   "source": [
    "> 缺点：局部加权线性回归增加了计算量，对每个点做预测时都需要使用整个数据集。"
   ]
  },
  {
   "cell_type": "markdown",
   "metadata": {},
   "source": [
    "## 3、示例：预测鲍鱼的年龄"
   ]
  },
  {
   "cell_type": "code",
   "execution_count": 96,
   "metadata": {},
   "outputs": [
    {
     "data": {
      "text/plain": [
       "(array([ 1.    ,  0.455 ,  0.365 ,  0.095 ,  0.514 ,  0.2245,  0.101 ,  0.15  ]),\n",
       " 15.0)"
      ]
     },
     "execution_count": 96,
     "metadata": {},
     "output_type": "execute_result"
    }
   ],
   "source": [
    "abX, abY = loadDataSet('abalone.txt')\n",
    "abX[0], abY[0]"
   ]
  },
  {
   "cell_type": "code",
   "execution_count": 97,
   "metadata": {
    "collapsed": true
   },
   "outputs": [],
   "source": [
    "yHat01 = lwlrTest(abX[:99], abX[:99], abY[:99], 0.1)\n",
    "yHat1 = lwlrTest(abX[:99], abX[:99], abY[:99], 1)\n",
    "yHat10 = lwlrTest(abX[:99], abX[:99], abY[:99], 10)"
   ]
  },
  {
   "cell_type": "code",
   "execution_count": 78,
   "metadata": {
    "collapsed": true
   },
   "outputs": [],
   "source": [
    "def resError(yArr, yHat):\n",
    "    return ((yArr - yHat)**2).sum()"
   ]
  },
  {
   "cell_type": "code",
   "execution_count": 100,
   "metadata": {},
   "outputs": [
    {
     "name": "stdout",
     "output_type": "stream",
     "text": [
      "56.9519167771\n",
      "429.89056187\n",
      "549.118170883\n"
     ]
    }
   ],
   "source": [
    "print(resError(abY[0:99], yHat01.T))\n",
    "print(resError(abY[0:99], yHat1.T))\n",
    "print(resError(abY[0:99], yHat10.T))"
   ]
  },
  {
   "cell_type": "markdown",
   "metadata": {},
   "source": [
    "可以看出，使用较小的核可以得到较低的误差，但是这会造成数据过拟合，因此需要比较不同的核大小，才能得到比较好的拟合效果。"
   ]
  },
  {
   "cell_type": "markdown",
   "metadata": {},
   "source": [
    "## 4、缩减系数来“理解”数据"
   ]
  },
  {
   "cell_type": "markdown",
   "metadata": {
    "collapsed": true
   },
   "source": [
    "如果数据的特征比样本点还多，就不能用之前的线性回归了，因为在计算$\\left( X^{T}X\\right) ^{-1}$的时候会出错。\n",
    "\n",
    "为了解决这个问题，统计学家引入了岭回归（ridge regression）,另外是lasso法，以及前宰相逐步回归，效果与lasso差不多，但是更容易实现。"
   ]
  },
  {
   "cell_type": "markdown",
   "metadata": {},
   "source": [
    "### 4.1 岭回归"
   ]
  },
  {
   "cell_type": "markdown",
   "metadata": {},
   "source": [
    "岭回归就是在矩阵$X^{T}X$上加一个$\\lambda I$使得矩阵非奇异，这样回归系数的计算公式将变为：$\\widehat {w}=\\left( X^{T}X+\\lambda I\\right) ^{-1}X^{T}y$"
   ]
  },
  {
   "cell_type": "markdown",
   "metadata": {},
   "source": [
    "岭回归最先用于处理特征数多于样本数的情况，现在也用于在估计中假日偏差，从而得到更好的估计。这里通过引入$\\lambda$限制了所有$w$之和，通过引入惩罚想，能减少不重要的参数，这个技术在统计学中叫做缩减（shrinkage）。\n",
    "\n",
    "缩减方法可以去掉不重要的参数，因此能更好地理解数据。"
   ]
  },
  {
   "cell_type": "code",
   "execution_count": 62,
   "metadata": {
    "collapsed": true
   },
   "outputs": [],
   "source": [
    "def ridgeRegress(xMat, yMat, lam=0.2):\n",
    "    xTx = xMat.T*xMat\n",
    "    m, n = xMat.shape\n",
    "    denom = xTx + np.eye(n)*lam\n",
    "    if np.linalg.det(denom) == 0.0:\n",
    "        print('This matrix is singular, cannot do inverse')\n",
    "        return\n",
    "    ws = denom.I * xMat.T * yMat\n",
    "    return ws"
   ]
  },
  {
   "cell_type": "code",
   "execution_count": 63,
   "metadata": {
    "collapsed": true
   },
   "outputs": [],
   "source": [
    "def ridgeTest(xArr, yArr):\n",
    "    xMat = np.mat(xArr)\n",
    "    yMat = np.mat(yArr).T\n",
    "    # 数据归一化\n",
    "    yMean = np.mean(yMat, 0)\n",
    "    yMat = yMat - yMean\n",
    "    xMeans = np.mean(xMat, 0)\n",
    "    xVar = np.var(xMat, 0)\n",
    "    xMat = (xMat - xMeans) / xVar\n",
    "    numTestPts = 30\n",
    "    m, n = xMat.shape\n",
    "    wMat = np.zeros((numTestPts, n))\n",
    "    for i in range(numTestPts):\n",
    "        ws = ridgeRegress(xMat, yMat, np.exp(i-10))\n",
    "        wMat[i, :] = ws.T\n",
    "    return wMat"
   ]
  },
  {
   "cell_type": "code",
   "execution_count": 18,
   "metadata": {
    "collapsed": true
   },
   "outputs": [],
   "source": [
    "# 在鲍鱼数据集上运行\n",
    "abX, abY = loadDataSet('abalone.txt')\n",
    "ridgeWeights = ridgeTest(abX, abY)"
   ]
  },
  {
   "cell_type": "code",
   "execution_count": 22,
   "metadata": {},
   "outputs": [
    {
     "data": {
      "image/png": "[encoded data removed]",
      "text/plain": [
       "<matplotlib.figure.Figure at 0x15e27c60518>"
      ]
     },
     "metadata": {},
     "output_type": "display_data"
    }
   ],
   "source": [
    "# plot\n",
    "fig, ax = plt.subplots(figsize=(10, 8))\n",
    "ax.plot(ridgeWeights)\n",
    "plt.xlabel('log(lambda)')\n",
    "plt.show()"
   ]
  },
  {
   "cell_type": "markdown",
   "metadata": {},
   "source": [
    "左边是不同$\\lambda$的初始值，右边系数全部缩减为0."
   ]
  },
  {
   "cell_type": "markdown",
   "metadata": {},
   "source": [
    "### 4.2 lasso"
   ]
  },
  {
   "cell_type": "markdown",
   "metadata": {},
   "source": [
    "在增加如下约束时，偏头痛的最小二乘法回归会得到与岭回归一样的公式：$\\sum ^{n}_{k=1}w^{2}_{k}\\leq \\lambda$\n",
    "\n",
    "另一个缩减方法lasso也对回归系数做了限定：$\\sum ^{n}_{k=1}\\left| w_{k}\\right| \\leq \\lambda$"
   ]
  },
  {
   "cell_type": "markdown",
   "metadata": {},
   "source": [
    "### 4.3 前向逐步回归"
   ]
  },
  {
   "cell_type": "markdown",
   "metadata": {},
   "source": [
    "前向逐步回归算法可以得到与lasso差不多的效果，但更加简单，属于一种贪心算法，即每一步都尽可能减少误差。"
   ]
  },
  {
   "cell_type": "code",
   "execution_count": 84,
   "metadata": {
    "collapsed": true
   },
   "outputs": [],
   "source": [
    "def rssError(yArr, yHat):\n",
    "    return ((yArr - yHat)**2).sum()"
   ]
  },
  {
   "cell_type": "code",
   "execution_count": 65,
   "metadata": {
    "collapsed": true
   },
   "outputs": [],
   "source": [
    "def stageWise(xArr, yArr, eps=0.01, numIter=100):\n",
    "    xMat= np.mat(xArr)\n",
    "    yMat = np.mat(yArr).T\n",
    "    # 归一化\n",
    "    yMean = np.mean(yMat, 0)\n",
    "    yMat = yMat - yMean\n",
    "    xMeans = np.mean(xMat, 0)\n",
    "    xVar = np.var(xMat, 0)\n",
    "    xMat = (xMat - xMeans) / xVar\n",
    "    m, n = xMat.shape\n",
    "    returMat = np.zeros((numIter, n))\n",
    "    ws = np.zeros((n, 1))\n",
    "    wsTest = ws.copy()\n",
    "    wsMat = ws.copy()\n",
    "    for i in range(numIter):\n",
    "        #print(ws.T)\n",
    "        lowestError = np.inf\n",
    "        for j in range(n):\n",
    "            for sign in [-1, 1]:\n",
    "                wsTest = ws.copy()\n",
    "                wsTest[j] += eps * sign\n",
    "                yTest = xMat * wsTest\n",
    "                rssE = rssError(yMat.A, yTest.A)\n",
    "                if rssE < lowestError:\n",
    "                    lowestError = rssE\n",
    "                    wsMax = wsTest\n",
    "        ws = wsMax.copy()\n",
    "        returMat[i, :] = ws.T\n",
    "    return returMat"
   ]
  },
  {
   "cell_type": "code",
   "execution_count": 40,
   "metadata": {},
   "outputs": [
    {
     "data": {
      "text/plain": [
       "array([[ 0.   ,  0.   ,  0.   , ...,  0.   ,  0.   ,  0.   ],\n",
       "       [ 0.   ,  0.   ,  0.   , ...,  0.   ,  0.   ,  0.   ],\n",
       "       [ 0.   ,  0.   ,  0.   , ...,  0.   ,  0.   ,  0.   ],\n",
       "       ..., \n",
       "       [ 0.043, -0.011,  0.12 , ..., -0.963, -0.105,  0.187],\n",
       "       [ 0.044, -0.011,  0.12 , ..., -0.963, -0.105,  0.187],\n",
       "       [ 0.043, -0.011,  0.12 , ..., -0.963, -0.105,  0.187]])"
      ]
     },
     "execution_count": 40,
     "metadata": {},
     "output_type": "execute_result"
    }
   ],
   "source": [
    "xArr, yArr = loadDataSet('abalone.txt')\n",
    "returnMat = stageWise(xArr, yArr, 0.001, 5000)\n",
    "returnMat"
   ]
  },
  {
   "cell_type": "code",
   "execution_count": 39,
   "metadata": {},
   "outputs": [
    {
     "data": {
      "text/plain": [
       "matrix([[ 0.0430442 , -0.02274163,  0.13214087,  0.02075182,  2.22403814,\n",
       "         -0.99895312, -0.11725427,  0.16622915]])"
      ]
     },
     "execution_count": 39,
     "metadata": {},
     "output_type": "execute_result"
    }
   ],
   "source": [
    "xMat = np.mat(xArr)\n",
    "yMat = np.mat(yArr)\n",
    "# 归一化\n",
    "yMean = np.mean(yMat, 1)\n",
    "yMat = yMat - yMean\n",
    "xMeans = np.mean(xMat, 0)\n",
    "xVar = np.var(xMat, 0)\n",
    "xMat = (xMat - xMeans) / xVar\n",
    "weights = standRegress(xMat, yMat)\n",
    "weights.T"
   ]
  },
  {
   "cell_type": "markdown",
   "metadata": {},
   "source": [
    "当步长为0.001，迭代次数为5000时，前向逐步回归与最小二乘回归结果很接近。"
   ]
  },
  {
   "cell_type": "code",
   "execution_count": 41,
   "metadata": {},
   "outputs": [
    {
     "data": {
      "image/png": "[encoded data removed]",
      "text/plain": [
       "<matplotlib.figure.Figure at 0x15e282bf080>"
      ]
     },
     "metadata": {},
     "output_type": "display_data"
    }
   ],
   "source": [
    "# plot\n",
    "fig, ax = plt.subplots(figsize=(10, 8))\n",
    "ax.plot(returnMat)\n",
    "plt.show()"
   ]
  },
  {
   "cell_type": "markdown",
   "metadata": {},
   "source": [
    "逐步线性回归的好处在于帮助人们理解现有的模型并做出改进，找出重要特征，即时停止对不重要特征的收集，提高生产效率。\n",
    "\n",
    "当应用缩减方法（如逐步线性回归或岭回归）时，模型增加了偏差（bias），与此同时却减小了模型的方差。"
   ]
  },
  {
   "cell_type": "markdown",
   "metadata": {},
   "source": [
    "## 5、权衡偏差与方差"
   ]
  },
  {
   "cell_type": "markdown",
   "metadata": {},
   "source": [
    "误差（bias）是指模型与真是测量值之间的差异，要想获得low bias，就要复杂化模型，增加参数，但这样会造成过拟合（overfitting）,就会引起high variance，带来的不良影响是泛化能力差，在测试集上可能效果很差。\n",
    "\n",
    "方差（variance）是描述在样本上训练出来的模型在测试集上的表现，要想获得low variance，就应该简化模型，减少参数，但这会造成欠拟合（underfitting）。\n",
    "\n",
    "[示意图](./bias-var.jpg)"
   ]
  },
  {
   "cell_type": "markdown",
   "metadata": {},
   "source": [
    "## 6、示例：预测乐高玩具套装的价格"
   ]
  },
  {
   "cell_type": "code",
   "execution_count": 2,
   "metadata": {
    "collapsed": true
   },
   "outputs": [],
   "source": [
    "# 需要解析html\n",
    "from bs4 import BeautifulSoup"
   ]
  },
  {
   "cell_type": "code",
   "execution_count": 53,
   "metadata": {},
   "outputs": [],
   "source": [
    "def searchForSet(retX, retY, inFile, yr, numPce, origPrc):\n",
    "    with open('./setHtml/'+inFile, encoding='utf-8') as f:\n",
    "        html = f.read()\n",
    "    bsObj = BeautifulSoup(html, 'lxml')\n",
    "    tables = bsObj.find_all('table', {'class': 'li'})\n",
    "    for i in range(len(tables)):\n",
    "        currItem = tables[i]\n",
    "        title = currItem.find_all('a')[1].text\n",
    "        lowerTitle = title.lower()\n",
    "        if ('new' in lowerTitle) or ('nisb' in lowerTitle):\n",
    "            newFlag = 1\n",
    "        else:\n",
    "            newFlag = 0\n",
    "        soldPrice = currItem.find_all('td')[4]\n",
    "        priceStr = soldPrice.text\n",
    "        priceStr = priceStr.split('$')[1]\n",
    "        priceStr = priceStr.replace(',', '')\n",
    "        if len(soldPrice) > 1:\n",
    "            priceStr = priceStr.replace('Free shipping', '')\n",
    "        sellingPrice = float(priceStr)\n",
    "        if sellingPrice > 0.5 * origPrc:\n",
    "            print('{0}\\t{1}\\t{2}\\t{3}\\t{4}'.format(yr, numPce, newFlag, origPrc, sellingPrice))\n",
    "            retX.append([yr, numPce, newFlag, origPrc])\n",
    "            retY.append(sellingPrice)            "
   ]
  },
  {
   "cell_type": "code",
   "execution_count": 54,
   "metadata": {
    "collapsed": true
   },
   "outputs": [],
   "source": [
    "def setDataCollect(retX, retY):\n",
    "    searchForSet(retX, retY, 'lego8288.html', 2006, 800, 49.99)\n",
    "    searchForSet(retX, retY, 'lego10030.html', 2002, 3096, 269.99)\n",
    "    searchForSet(retX, retY, 'lego10179.html', 2007, 5195, 499.99)\n",
    "    searchForSet(retX, retY, 'lego10181.html', 2007, 3428, 199.99)\n",
    "    searchForSet(retX, retY, 'lego10189.html', 2008, 5922, 299.99)\n",
    "    searchForSet(retX, retY, 'lego10196.html', 2009, 3263, 249.99)"
   ]
  },
  {
   "cell_type": "code",
   "execution_count": 55,
   "metadata": {},
   "outputs": [
    {
     "name": "stdout",
     "output_type": "stream",
     "text": [
      "2006\t800\t0\t49.99\t85.0\n",
      "2006\t800\t0\t49.99\t102.5\n",
      "2006\t800\t0\t49.99\t77.0\n",
      "2006\t800\t0\t49.99\t110.0\n",
      "2006\t800\t0\t49.99\t162.5\n",
      "2002\t3096\t0\t269.99\t699.99\n",
      "2002\t3096\t0\t269.99\t602.0\n",
      "2002\t3096\t0\t269.99\t515.0\n",
      "2002\t3096\t0\t269.99\t510.0\n",
      "2002\t3096\t0\t269.99\t375.0\n",
      "2002\t3096\t1\t269.99\t1050.0\n",
      "2002\t3096\t0\t269.99\t740.0\n",
      "2002\t3096\t1\t269.99\t759.0\n",
      "2002\t3096\t0\t269.99\t730.0\n",
      "2002\t3096\t1\t269.99\t750.0\n",
      "2007\t5195\t0\t499.99\t910.0\n",
      "2007\t5195\t1\t499.99\t1199.99\n",
      "2007\t5195\t0\t499.99\t811.88\n",
      "2007\t5195\t0\t499.99\t1138.0\n",
      "2007\t5195\t0\t499.99\t1324.79\n",
      "2007\t5195\t1\t499.99\t850.0\n",
      "2007\t5195\t1\t499.99\t800.0\n",
      "2007\t5195\t0\t499.99\t810.0\n",
      "2007\t5195\t1\t499.99\t1075.0\n",
      "2007\t5195\t0\t499.99\t1050.0\n",
      "2007\t5195\t1\t499.99\t1199.99\n",
      "2007\t5195\t0\t499.99\t1342.31\n",
      "2007\t5195\t1\t499.99\t1000.0\n",
      "2007\t5195\t0\t499.99\t1780.0\n",
      "2007\t5195\t0\t499.99\t750.0\n",
      "2007\t5195\t1\t499.99\t1050.0\n",
      "2007\t5195\t0\t499.99\t2204.99\n",
      "2007\t5195\t0\t499.99\t1099.99\n",
      "2007\t5195\t1\t499.99\t925.0\n",
      "2007\t5195\t0\t499.99\t860.0\n",
      "2007\t5195\t0\t499.99\t1675.0\n",
      "2007\t5195\t1\t499.99\t1199.99\n",
      "2007\t5195\t1\t499.99\t1099.99\n",
      "2007\t5195\t1\t499.99\t1149.99\n",
      "2007\t5195\t1\t499.99\t800.0\n",
      "2007\t5195\t1\t499.99\t850.0\n",
      "2007\t5195\t0\t499.99\t1343.74\n",
      "2007\t3428\t0\t199.99\t469.95\n",
      "2007\t3428\t0\t199.99\t479.0\n",
      "2007\t3428\t0\t199.99\t299.99\n",
      "2007\t3428\t0\t199.99\t369.0\n",
      "2007\t3428\t1\t199.99\t424.95\n",
      "2007\t3428\t1\t199.99\t380.0\n",
      "2007\t3428\t0\t199.99\t305.0\n",
      "2008\t5922\t1\t299.99\t530.0\n",
      "2008\t5922\t1\t299.99\t549.95\n",
      "2008\t5922\t1\t299.99\t599.95\n",
      "2008\t5922\t0\t299.99\t510.0\n",
      "2008\t5922\t0\t299.99\t423.0\n",
      "2008\t5922\t1\t299.99\t599.95\n",
      "2008\t5922\t0\t299.99\t449.99\n",
      "2008\t5922\t1\t299.99\t599.99\n",
      "2008\t5922\t1\t299.99\t550.0\n",
      "2008\t5922\t1\t299.99\t589.99\n",
      "2008\t5922\t1\t299.99\t569.99\n",
      "2008\t5922\t1\t299.99\t529.99\n",
      "2008\t5922\t0\t299.99\t500.0\n",
      "2008\t5922\t1\t299.99\t549.95\n",
      "2008\t5922\t0\t299.99\t300.0\n",
      "2008\t5922\t1\t299.99\t569.0\n",
      "2008\t5922\t1\t299.99\t637.52\n",
      "2009\t3263\t1\t249.99\t380.0\n",
      "2009\t3263\t1\t249.99\t399.0\n",
      "2009\t3263\t1\t249.99\t427.99\n",
      "2009\t3263\t0\t249.99\t360.0\n",
      "2009\t3263\t1\t249.99\t450.0\n",
      "2009\t3263\t1\t249.99\t489.0\n",
      "2009\t3263\t1\t249.99\t399.0\n",
      "2009\t3263\t1\t249.99\t399.95\n",
      "2009\t3263\t1\t249.99\t499.99\n",
      "2009\t3263\t1\t249.99\t459.95\n",
      "2009\t3263\t0\t249.99\t399.95\n",
      "2009\t3263\t1\t249.99\t459.95\n",
      "2009\t3263\t1\t249.99\t331.51\n"
     ]
    }
   ],
   "source": [
    "lgX = []\n",
    "lgY = []\n",
    "setDataCollect(lgX, lgY)"
   ]
  },
  {
   "cell_type": "markdown",
   "metadata": {},
   "source": [
    "### 6.2 训练算法：建立模型"
   ]
  },
  {
   "cell_type": "code",
   "execution_count": 58,
   "metadata": {},
   "outputs": [
    {
     "data": {
      "text/plain": [
       "matrix([[  1.00000000e+00,   2.00600000e+03,   8.00000000e+02,\n",
       "           0.00000000e+00,   4.99900000e+01]])"
      ]
     },
     "execution_count": 58,
     "metadata": {},
     "output_type": "execute_result"
    }
   ],
   "source": [
    "# 构建常数项\n",
    "m, n = np.mat(lgX).shape\n",
    "lgX1 = np.mat(np.ones((m, n+1)))\n",
    "lgX1[:, 1:5] = np.mat(lgX)\n",
    "lgX1[0]"
   ]
  },
  {
   "cell_type": "code",
   "execution_count": 66,
   "metadata": {
    "collapsed": true
   },
   "outputs": [],
   "source": [
    "ws = standRegress(lgX1, lgY)"
   ]
  },
  {
   "cell_type": "code",
   "execution_count": 76,
   "metadata": {},
   "outputs": [
    {
     "data": {
      "text/plain": [
       "matrix([[  4.90452853e+04],\n",
       "        [ -2.44669376e+01],\n",
       "        [ -2.74330968e-02],\n",
       "        [ -2.88831230e+01],\n",
       "        [  2.66505136e+00]])"
      ]
     },
     "execution_count": 76,
     "metadata": {},
     "output_type": "execute_result"
    }
   ],
   "source": [
    "ws"
   ]
  },
  {
   "cell_type": "code",
   "execution_count": 77,
   "metadata": {},
   "outputs": [
    {
     "data": {
      "text/plain": [
       "(matrix([[ 75.88799363]]), 85.0)"
      ]
     },
     "execution_count": 77,
     "metadata": {},
     "output_type": "execute_result"
    }
   ],
   "source": [
    "lgX1[1] * ws, lgY[0]"
   ]
  },
  {
   "cell_type": "code",
   "execution_count": 95,
   "metadata": {
    "collapsed": true
   },
   "outputs": [],
   "source": [
    "# 交叉验证测试岭回归\n",
    "def crossValidation(xArr, yArr, numVal=10):\n",
    "    m = len(yArr)\n",
    "    indexList = list(range(m))\n",
    "    errorMat = np.zeros((numVal, 30))\n",
    "    for i in range(numVal):\n",
    "        trainX = []\n",
    "        trainY = []\n",
    "        testX = []\n",
    "        testY = []\n",
    "        np.random.shuffle(indexList)\n",
    "        for j in range(m):\n",
    "            if j < m * 0.9:\n",
    "                trainX.append(xArr[indexList[j]])\n",
    "                trainY.append(yArr[indexList[j]])\n",
    "            else:\n",
    "                testX.append(xArr[indexList[j]])\n",
    "                testY.append(yArr[indexList[j]])\n",
    "        wMat = ridgeTest(trainX, trainY)\n",
    "        for k in range(30):\n",
    "            matTestX = np.mat(testX)\n",
    "            matTrainX = np.mat(trainX)\n",
    "            meanTrain = np.mean(matTrainX, 0)\n",
    "            varTrain = np.var(matTrainX, 0)\n",
    "            matTestX = (matTestX-meanTrain)/varTrain\n",
    "            yEst = matTestX * np.mat(wMat[k, :]).T + np.mean(trainY)\n",
    "            errorMat[i, k] = rssError(yEst.T.A, np.array(testY))\n",
    "    meanErrors = np.mean(errorMat, 0)\n",
    "    minMean = float(min(meanErrors))\n",
    "    bestWeights = wMat[np.nonzero(meanErrors==minMean)]\n",
    "    xMat = np.mat(xArr)\n",
    "    yMat = np.mat(yArr).T\n",
    "    meanX = np.mean(xMat, 0)\n",
    "    varX = np.var(xMat, 0)\n",
    "    unReg = bestWeights / varX\n",
    "    print('the best model from Ridge Regression is: {0}'.format(unReg))\n",
    "    print('with constant term: {0}'.format(-1*np.sum(np.multiply(meanX, unReg))+np.mean(yMat)))"
   ]
  },
  {
   "cell_type": "code",
   "execution_count": 97,
   "metadata": {},
   "outputs": [
    {
     "name": "stdout",
     "output_type": "stream",
     "text": [
      "the best model from Ridge Regression is: [[ -2.91633947e+01   1.51964540e-04  -1.74852438e+01   2.13216661e+00]]\n",
      "with constant term: 58521.64098222057\n"
     ]
    }
   ],
   "source": [
    "crossValidation(lgX, lgY, 10)"
   ]
  },
  {
   "cell_type": "markdown",
   "metadata": {},
   "source": [
    "> 总结：回归与分类的区别在于，前者预测的是连续性变量，后者预测离散型变量。这一章使用了传统的最小二乘法，当样本数小于特征数时需要采取特殊的策略，比如岭回归。\n",
    "\n",
    "> 岭回归是缩减法的一种，相当于对回归系数的大小施加限制，另一种缩减法是lasso，可以使用简单的前向逐步回归解决。"
   ]
  },
  {
   "cell_type": "code",
   "execution_count": null,
   "metadata": {
    "collapsed": true
   },
   "outputs": [],
   "source": []
  }
 ],
 "metadata": {
  "kernelspec": {
   "display_name": "Python 3",
   "language": "python",
   "name": "python3"
  },
  "language_info": {
   "codemirror_mode": {
    "name": "ipython",
    "version": 3
   },
   "file_extension": ".py",
   "mimetype": "text/x-python",
   "name": "python",
   "nbconvert_exporter": "python",
   "pygments_lexer": "ipython3",
   "version": "3.6.3"
  }
 },
 "nbformat": 4,
 "nbformat_minor": 2
}
